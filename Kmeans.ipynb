{
 "cells": [
  {
   "cell_type": "markdown",
   "metadata": {
    "id": "lR9ZPd9qE6UP"
   },
   "source": [
    "\n",
    "\n",
    "### **K-Means Clustering**\n"
   ]
  },
  {
   "cell_type": "code",
   "execution_count": null,
   "metadata": {
    "colab": {
     "base_uri": "https://localhost:8080/",
     "height": 263
    },
    "id": "32l6LwZMeyEA",
    "outputId": "b9116aa6-9fa9-463b-bdf0-d448c4b50bb9"
   },
   "outputs": [
    {
     "name": "stdout",
     "output_type": "stream",
     "text": [
      "Collecting pyspark\n",
      "\u001b[?25l  Downloading https://files.pythonhosted.org/packages/f0/26/198fc8c0b98580f617cb03cb298c6056587b8f0447e20fa40c5b634ced77/pyspark-3.0.1.tar.gz (204.2MB)\n",
      "\u001b[K     |████████████████████████████████| 204.2MB 67kB/s \n",
      "\u001b[?25hCollecting py4j==0.10.9\n",
      "\u001b[?25l  Downloading https://files.pythonhosted.org/packages/9e/b6/6a4fb90cd235dc8e265a6a2067f2a2c99f0d91787f06aca4bcf7c23f3f80/py4j-0.10.9-py2.py3-none-any.whl (198kB)\n",
      "\u001b[K     |████████████████████████████████| 204kB 46.7MB/s \n",
      "\u001b[?25hBuilding wheels for collected packages: pyspark\n",
      "  Building wheel for pyspark (setup.py) ... \u001b[?25l\u001b[?25hdone\n",
      "  Created wheel for pyspark: filename=pyspark-3.0.1-py2.py3-none-any.whl size=204612243 sha256=2238fa9a029b62ab73189454221e4980618e6798c702704e8e46e85be7775e76\n",
      "  Stored in directory: /root/.cache/pip/wheels/5e/bd/07/031766ca628adec8435bb40f0bd83bb676ce65ff4007f8e73f\n",
      "Successfully built pyspark\n",
      "Installing collected packages: py4j, pyspark\n",
      "Successfully installed py4j-0.10.9 pyspark-3.0.1\n"
     ]
    }
   ],
   "source": [
    "!pip install pyspark"
   ]
  },
  {
   "cell_type": "code",
   "execution_count": null,
   "metadata": {
    "id": "q8tdUQ1ZdUxi"
   },
   "outputs": [],
   "source": [
    "#Importing Packages\n",
    "import sys\n",
    "from pyspark import SparkContext, SparkConf\n",
    "import numpy as np\n",
    "import random\n",
    "import matplotlib as mplib\n",
    "import matplotlib.pyplot as plt"
   ]
  },
  {
   "cell_type": "code",
   "execution_count": null,
   "metadata": {
    "id": "18DqHD4RdXGg"
   },
   "outputs": [],
   "source": [
    "#Initializing Spark Context\n",
    "sparkcontext = SparkContext(\"local\",\"PySpark k_means\")"
   ]
  },
  {
   "cell_type": "code",
   "execution_count": null,
   "metadata": {
    "id": "MjC8RyQjDWgC"
   },
   "outputs": [],
   "source": [
    "total_iteration = 20 #Global Iterations Value\n",
    "k = 10 #Global K-cluster value"
   ]
  },
  {
   "cell_type": "code",
   "execution_count": null,
   "metadata": {
    "id": "vqfAd4ZIQx56"
   },
   "outputs": [],
   "source": [
    "#data file\n",
    "file = \"/content/data.txt\""
   ]
  },
  {
   "cell_type": "code",
   "execution_count": null,
   "metadata": {
    "id": "otbJCYOWdY0-"
   },
   "outputs": [],
   "source": [
    "fileRDD = sparkcontext.textFile(file)\n",
    "RDD = fileRDD.map(lambda line: [item for item in line.split(' ')])\n",
    "dataRDD = RDD.map(lambda x: [float(i) for i in x])"
   ]
  },
  {
   "cell_type": "code",
   "execution_count": null,
   "metadata": {
    "id": "W5XOIuoXapxu"
   },
   "outputs": [],
   "source": [
    "#Initializing new cluster centroids in random with probability Di\n",
    "def newClusterCentroid(distance,data):\n",
    "  d = np.array(distance)\n",
    "  #probablity must be between 0 and 1\n",
    "  sum_prob = d/d.sum()\n",
    "  #Getting cumulative sum values\n",
    "  cum_prob = sum_prob.cumsum()\n",
    "  r = random.random()\n",
    "  index = 0\n",
    "  key = 0\n",
    "  for i,j in enumerate(cum_prob):\n",
    "    #Picking the least value through comparision\n",
    "    if r <= j:\n",
    "      index = j\n",
    "      key = i\n",
    "  centroid = data[key]\n",
    "  return centroid"
   ]
  },
  {
   "cell_type": "code",
   "execution_count": null,
   "metadata": {
    "id": "Ykj8siGbWGDr"
   },
   "outputs": [],
   "source": [
    "# measure the squared Euclidean distance Di to the existing cluster centroids\n",
    "def getFinalDistance(a,b):\n",
    "  finalDist = 0\n",
    "  for x,y in zip(a,b):\n",
    "    dist  =  (x-y)\n",
    "    sq = dist**2\n",
    "    finalDist = finalDist+sq\n",
    "  return finalDist"
   ]
  },
  {
   "cell_type": "code",
   "execution_count": null,
   "metadata": {
    "id": "-Kc6_PmzKwu8"
   },
   "outputs": [],
   "source": [
    "def getDistace(centroid,points):\n",
    "  dist = list()\n",
    "  for i in points:\n",
    "    d = 0\n",
    "    for j in centroid:\n",
    "      # Get max distance for farthest cluster centroid\n",
    "      d = max(d,getFinalDistance(j,i))\n",
    "    dist.append(d)\n",
    "  return dist"
   ]
  },
  {
   "cell_type": "code",
   "execution_count": null,
   "metadata": {
    "id": "6_enhNhZdg0n"
   },
   "outputs": [],
   "source": [
    "def getCentroids(data, numClusters):\n",
    "  #random initialization of centriods\n",
    "  centroids = data.takeSample(False, numClusters)\n",
    "  return centroids"
   ]
  },
  {
   "cell_type": "code",
   "execution_count": null,
   "metadata": {
    "id": "d-YRCpRzc9sG"
   },
   "outputs": [],
   "source": [
    "centroids = getCentroids(dataRDD,10)"
   ]
  },
  {
   "cell_type": "code",
   "execution_count": null,
   "metadata": {
    "id": "Ib423o8XhDDs"
   },
   "outputs": [],
   "source": [
    "#Euclidean distance\n",
    "def getEuclideanDistance(a, b):\n",
    "    eucDist = 0\n",
    "    for i, j in zip(a, b):\n",
    "        vals = (i - j)**2\n",
    "        eucDist += vals\n",
    "    return (eucDist)**(1/2)"
   ]
  },
  {
   "cell_type": "code",
   "execution_count": null,
   "metadata": {
    "id": "AjWabF6AiAU_"
   },
   "outputs": [],
   "source": [
    "#Manhattan distance\n",
    "def getManhattanDistance(a, b):\n",
    "    manDist = 0\n",
    "    for i, j in zip(a, b):\n",
    "        #Getting Absolute value of i - j\n",
    "        vals = abs(i-j)\n",
    "        manDist += vals\n",
    "    return (manDist)**(1/2)"
   ]
  },
  {
   "cell_type": "code",
   "execution_count": null,
   "metadata": {
    "id": "H4rEeppOiCAG"
   },
   "outputs": [],
   "source": [
    "#Picking the cluster with the least calculated distance\n",
    "def getClusterlabel(distance, points, centroids):\n",
    "  index = min(distance, key=distance.get)\n",
    "  return [index, points, distance[index]]"
   ]
  },
  {
   "cell_type": "code",
   "execution_count": null,
   "metadata": {
    "id": "TGh4PaOpiGDk"
   },
   "outputs": [],
   "source": [
    "#Update new cluster centriod values with each iteration\n",
    "def getNewCentroids(label,centroids):\n",
    "  cenVals = []\n",
    "  for i in range(0,10):\n",
    "    cen = []\n",
    "    tempCen = None\n",
    "    for j in label:\n",
    "      if j[0] == i:\n",
    "        cen.append(np.array(j[1]))\n",
    "    if not cen:\n",
    "      tempCen = centroids[i]\n",
    "    else:\n",
    "      tempCen = np.average(cen,axis = 0)\n",
    "    cenVals.append(tempCen)\n",
    "  return cenVals        "
   ]
  },
  {
   "cell_type": "code",
   "execution_count": null,
   "metadata": {
    "id": "i52eZWu6iGqO"
   },
   "outputs": [],
   "source": [
    "def kMeansEucledianDistance(points,centroids):\n",
    "  length = len(points)\n",
    "  eucledianCost = np.zeros((total_iteration,2))\n",
    "  eucledianCostDict = dict()\n",
    "  i = 0\n",
    "  while i < total_iteration:\n",
    "    clabel = []\n",
    "    i += 1\n",
    "    temp = 0\n",
    "    for l in range(0, length):\n",
    "      distance = {}\n",
    "      for c in range(0, k):\n",
    "        distance[c] = getEuclideanDistance(points[l], centroids[c])\n",
    "      label = getClusterlabel(distance, points[l], centroids)\n",
    "      clabel.append(label)\n",
    "      temp = temp + (label[2]**2)\n",
    "    eucledianCostDict[i] = temp \n",
    "    eucledianCost[i-1,:] = np.array([i, temp])\n",
    "    new_centroids = getNewCentroids(clabel,centroids)\n",
    "    centroids = new_centroids\n",
    "  return eucledianCost,eucledianCostDict"
   ]
  },
  {
   "cell_type": "code",
   "execution_count": null,
   "metadata": {
    "id": "lifAH2jMDveh"
   },
   "outputs": [],
   "source": [
    "def kMeansManhattanDistance(points,centroids):\n",
    "  length = len(points)\n",
    "  manhattanCost = np.zeros((total_iteration,2))\n",
    "  manhattanCostDict = dict()\n",
    "  i = 0\n",
    "  while i < total_iteration:\n",
    "    clabel = []\n",
    "    i += 1\n",
    "    temp = 0\n",
    "    for l in range(0, length):\n",
    "      distance = {}\n",
    "      for c in range(0, k):\n",
    "        distance[c] = getManhattanDistance(points[l], centroids[c])\n",
    "      label = getClusterlabel(distance, points[l], centroids)\n",
    "      clabel.append(label)\n",
    "      temp = temp + (label[2]**2)\n",
    "    manhattanCostDict[i] = temp \n",
    "    manhattanCost[i-1,:] = np.array([i, temp])\n",
    "    new_centroids = getNewCentroids(clabel,centroids)\n",
    "    centroids = new_centroids\n",
    "  return manhattanCost,manhattanCostDict"
   ]
  },
  {
   "cell_type": "code",
   "execution_count": null,
   "metadata": {
    "colab": {
     "base_uri": "https://localhost:8080/",
     "height": 55
    },
    "id": "K-ag0UHYirIC",
    "outputId": "1210b013-a817-4a3d-e081-8511a9514325"
   },
   "outputs": [
    {
     "name": "stdout",
     "output_type": "stream",
     "text": [
      "{1: 803150040.4919723, 2: 705929684.7617171, 3: 647294309.7108635, 4: 555555044.3303144, 5: 527580143.3534354, 6: 510097768.14807135, 7: 494316662.5460482, 8: 482390356.5460858, 9: 475245842.6368497, 10: 470480252.24576837, 11: 466815402.5250923, 12: 464666766.2244399, 13: 463334431.2400587, 14: 462542256.65354913, 15: 462004581.9258603, 16: 461462462.9429456, 17: 461109887.62383044, 18: 460892091.14272445, 19: 460666336.23238456, 20: 460397886.6829213}\n"
     ]
    }
   ],
   "source": [
    "[eucledianCost,eucledianCostDict] = kMeansEucledianDistance(dataRDD.collect(),centroids)\n",
    "print(eucledianCostDict)"
   ]
  },
  {
   "cell_type": "code",
   "execution_count": null,
   "metadata": {
    "colab": {
     "base_uri": "https://localhost:8080/",
     "height": 55
    },
    "id": "4ShtSgmlD750",
    "outputId": "ea712674-b287-4ba1-db4b-41d320c93f15"
   },
   "outputs": [
    {
     "name": "stdout",
     "output_type": "stream",
     "text": [
      "{1: 604285.7010000036, 2: 579496.7833093301, 3: 565786.6628831748, 4: 536396.7979424216, 5: 521525.6074733803, 6: 515442.0170954656, 7: 511336.1910731346, 8: 511450.68458457803, 9: 507951.6178313047, 10: 499507.92047575925, 11: 486600.50850361574, 12: 473819.9912256842, 13: 463253.1488465433, 14: 461057.40178008727, 15: 450618.4419257116, 16: 439002.1845334793, 17: 439891.0080702886, 18: 440375.47169517126, 19: 439287.5948504907, 20: 438273.66179653467}\n"
     ]
    }
   ],
   "source": [
    "[manhattanCost,manhattanCostDict] = kMeansManhattanDistance(dataRDD.collect(),centroids)\n",
    "print(manhattanCostDict)"
   ]
  },
  {
   "cell_type": "code",
   "execution_count": null,
   "metadata": {
    "colab": {
     "base_uri": "https://localhost:8080/",
     "height": 387
    },
    "id": "9iH4MJzIe529",
    "outputId": "f8e93621-3718-44f4-946c-361afc3445f9"
   },
   "outputs": [
    {
     "data": {
      "text/plain": [
       "<matplotlib.legend.Legend at 0x7f45f9e8ec18>"
      ]
     },
     "execution_count": 25,
     "metadata": {
      "tags": []
     },
     "output_type": "execute_result"
    },
    {
     "data": {
      "image/png": "[encoded data removed]",
      "text/plain": [
       "<Figure size 1800x504 with 1 Axes>"
      ]
     },
     "metadata": {
      "needs_background": "light",
      "tags": []
     },
     "output_type": "display_data"
    }
   ],
   "source": [
    "plt.rcParams[\"figure.figsize\"]=25,7\n",
    "plt.plot(eucledianCost[:,0], eucledianCost[:,1], 'r',marker='o',label='Eucledian Cost')\n",
    "plt.xlabel(\"Iterations\")\n",
    "plt.ylabel(\"Eucledian Cost\")\n",
    "plt.title(\"Plot Eucledian Cost Function\")\n",
    "plt.legend(loc='best')"
   ]
  },
  {
   "cell_type": "code",
   "execution_count": null,
   "metadata": {
    "colab": {
     "base_uri": "https://localhost:8080/",
     "height": 382
    },
    "id": "4DdjJKxNgUBS",
    "outputId": "8c4094ff-3e7f-4f35-9185-169b96177076"
   },
   "outputs": [
    {
     "data": {
      "text/plain": [
       "<matplotlib.legend.Legend at 0x7f45f9e2a978>"
      ]
     },
     "execution_count": 26,
     "metadata": {
      "tags": []
     },
     "output_type": "execute_result"
    },
    {
     "data": {
      "image/png": "[encoded data removed]",
      "text/plain": [
       "<Figure size 1800x504 with 1 Axes>"
      ]
     },
     "metadata": {
      "needs_background": "light",
      "tags": []
     },
     "output_type": "display_data"
    }
   ],
   "source": [
    "plt.rcParams[\"figure.figsize\"]=25,7\n",
    "plt.plot(manhattanCost[:,0], manhattanCost[:,1],'g',marker='o',label='Manhattan Cost')\n",
    "plt.xlabel(\"Iterations\")\n",
    "plt.ylabel(\"Manhattan Cost\")\n",
    "plt.title(\"Plot Manhattan Cost Function\")\n",
    "plt.legend(loc='best')"
   ]
  }
 ],
 "metadata": {
  "colab": {
   "collapsed_sections": [],
   "name": "kmeans_clustering_Final.ipynb",
   "provenance": []
  },
  "kernelspec": {
   "display_name": "Python 3",
   "language": "python",
   "name": "python3"
  },
  "language_info": {
   "codemirror_mode": {
    "name": "ipython",
    "version": 3
   },
   "file_extension": ".py",
   "mimetype": "text/x-python",
   "name": "python",
   "nbconvert_exporter": "python",
   "pygments_lexer": "ipython3",
   "version": "3.7.3"
  }
 },
 "nbformat": 4,
 "nbformat_minor": 1
}
