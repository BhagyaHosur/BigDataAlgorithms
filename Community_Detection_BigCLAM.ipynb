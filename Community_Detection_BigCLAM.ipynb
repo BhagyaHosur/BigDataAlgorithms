{
 "cells": [
  {
   "cell_type": "markdown",
   "metadata": {
    "id": "VojlTH_jmYrA"
   },
   "source": [
    "<b>Community Detection using BigCLAM</b>"
   ]
  },
  {
   "cell_type": "code",
   "execution_count": 41,
   "metadata": {
    "id": "4vdCk1sbPLZd"
   },
   "outputs": [],
   "source": [
    "import networkx as nx \n",
    "import numpy as np\n",
    "import pandas as pd\n",
    "import math\n",
    "import itertools as IT\n",
    "import scipy\n",
    "from random import randint, choice\n",
    "import random\n",
    "import matplotlib.pyplot as plt\n",
    "import warnings"
   ]
  },
  {
   "cell_type": "markdown",
   "metadata": {
    "id": "3giTiO9N8bPZ"
   },
   "source": [
    "***Loading of the Youtube Edge List Data***"
   ]
  },
  {
   "cell_type": "code",
   "execution_count": 3,
   "metadata": {
    "id": "TFfVpMQKbA-N"
   },
   "outputs": [],
   "source": [
    "G = nx.read_edgelist(\"/content/YouTube.edgelist\", nodetype=int)"
   ]
  },
  {
   "cell_type": "code",
   "execution_count": 22,
   "metadata": {
    "colab": {
     "base_uri": "https://localhost:8080/"
    },
    "id": "OH8fp4t5bwD8",
    "outputId": "49c8a71a-7729-4cd7-a0b4-38f0f050e67b"
   },
   "outputs": [
    {
     "name": "stdout",
     "output_type": "stream",
     "text": [
      "Number of Nodes:  7675\n",
      "Number of Edges:  35622\n"
     ]
    }
   ],
   "source": [
    "#Number of nodes and edges in the given graph\n",
    "V = G.number_of_nodes()\n",
    "E = G.number_of_edges()\n",
    "print(\"Number of Nodes: \",V)\n",
    "print(\"Number of Edges: \",E)"
   ]
  },
  {
   "cell_type": "code",
   "execution_count": 23,
   "metadata": {
    "id": "9kPgxwh3-RhV"
   },
   "outputs": [],
   "source": [
    "#Number of communities in the ground truth file\n",
    "K = sum(1 for line in open('/content/groundtruth_communities.txt'))"
   ]
  },
  {
   "cell_type": "markdown",
   "metadata": {
    "id": "aLmOvJcQB1CJ"
   },
   "source": [
    "**1. Factor matrix initialization:** 3 Matrix are initalized, 20_Percent_Seed, Neighborhood seed and a Random Initalization"
   ]
  },
  {
   "cell_type": "code",
   "execution_count": 24,
   "metadata": {
    "id": "pAnvXeVFs46Y"
   },
   "outputs": [],
   "source": [
    "#Matrix for 20 percent seed value\n",
    "file_20percent = \"/content/20percent_seed_communities.txt\"\n",
    "list_20percent = [] \n",
    "with open(file_20percent) as fp: \n",
    "  for line in fp: \n",
    "    list_20percent.append([int(i) for i in line.split()]) "
   ]
  },
  {
   "cell_type": "code",
   "execution_count": 26,
   "metadata": {
    "colab": {
     "base_uri": "https://localhost:8080/"
    },
    "id": "ecpyXdVmuKDc",
    "outputId": "ea26f1ef-e239-4198-b0dc-a314f9ed7bc8"
   },
   "outputs": [
    {
     "data": {
      "text/plain": [
       "array([[0., 0., 0., ..., 0., 0., 0.],\n",
       "       [0., 0., 0., ..., 0., 0., 0.],\n",
       "       [0., 0., 0., ..., 0., 0., 0.],\n",
       "       ...,\n",
       "       [0., 0., 0., ..., 0., 0., 0.],\n",
       "       [0., 0., 0., ..., 0., 0., 0.],\n",
       "       [0., 0., 1., ..., 0., 0., 0.]])"
      ]
     },
     "execution_count": 26,
     "metadata": {
      "tags": []
     },
     "output_type": "execute_result"
    }
   ],
   "source": [
    "fmatrix_20percent = np.zeros((V,K)) \n",
    "for i in range(len(list_20percent)): \n",
    "  for j in list_20percent[i]: \n",
    "    fmatrix_20percent[j][i] = 1 "
   ]
  },
  {
   "cell_type": "code",
   "execution_count": 28,
   "metadata": {
    "colab": {
     "base_uri": "https://localhost:8080/"
    },
    "id": "aa_JMp3Tu0QB",
    "outputId": "f4fb363d-53d1-472d-eb8a-e2bb8f88c51c"
   },
   "outputs": [
    {
     "data": {
      "text/plain": [
       "array([[1., 1., 1., ..., 0., 0., 0.],\n",
       "       [1., 1., 1., ..., 0., 0., 0.],\n",
       "       [1., 1., 1., ..., 0., 0., 0.],\n",
       "       ...,\n",
       "       [1., 0., 1., ..., 0., 0., 0.],\n",
       "       [1., 1., 1., ..., 0., 0., 0.],\n",
       "       [1., 0., 1., ..., 0., 0., 0.]])"
      ]
     },
     "execution_count": 28,
     "metadata": {
      "tags": []
     },
     "output_type": "execute_result"
    }
   ],
   "source": [
    "#Conducatnace\n",
    "for i in range(len(fmatrix_20percent)): \n",
    "  value_minimum = np.inf \n",
    "  for j in range(len(fmatrix_20percent[0])): \n",
    "    conduct = nx.conductance(G, (list_20percent[j]+list(G.neighbors(i))+[i])) \n",
    "    if value_minimum > conduct: \n",
    "      value_minimum = conduct \n",
    "      conduct_minimum = j \n",
    "    for k in list(G.neighbors(i))+[i]: \n",
    "      fmatrix_20percent[k][conduct_minimum] = 1\n",
    "fmatrix_20percent "
   ]
  },
  {
   "cell_type": "code",
   "execution_count": 44,
   "metadata": {
    "id": "A1ReKpM4tV0N"
   },
   "outputs": [],
   "source": [
    "neighSeed_file = \"/content/neighborhood_seeds.txt\" \n",
    "neighSeed_list = [] \n",
    "with open(neighSeed_file) as fn: \n",
    "  for line in fn: \n",
    "    neighSeed_list.append([int(i) for i in line.split()]) "
   ]
  },
  {
   "cell_type": "code",
   "execution_count": 45,
   "metadata": {
    "id": "_MVAUd8Dwv8s"
   },
   "outputs": [],
   "source": [
    "fmatrix_neighseed = np.zeros((V,K)) \n",
    "for i in range(len(neighSeed_list)): \n",
    "  for j in neighSeed_list[i]:  \n",
    "    fmatrix_neighseed[j][i] = 1"
   ]
  },
  {
   "cell_type": "code",
   "execution_count": 46,
   "metadata": {
    "colab": {
     "base_uri": "https://localhost:8080/"
    },
    "id": "jj36inMMxGnB",
    "outputId": "3f6696dd-d504-49a2-997e-8e75105f1ad1"
   },
   "outputs": [
    {
     "data": {
      "text/plain": [
       "array([[1., 1., 1., ..., 0., 0., 0.],\n",
       "       [1., 1., 1., ..., 0., 0., 0.],\n",
       "       [1., 1., 1., ..., 0., 0., 0.],\n",
       "       ...,\n",
       "       [1., 0., 1., ..., 0., 0., 0.],\n",
       "       [1., 0., 1., ..., 0., 0., 0.],\n",
       "       [1., 0., 1., ..., 0., 0., 0.]])"
      ]
     },
     "execution_count": 46,
     "metadata": {
      "tags": []
     },
     "output_type": "execute_result"
    }
   ],
   "source": [
    "for i in range(len(fmatrix_neighseed)): \n",
    "  value_minimum = np.inf \n",
    "  for j in range(len(fmatrix_neighseed[0])): \n",
    "    conduct = nx.conductance(G, (neighSeed_list[j]+list(G.neighbors(i))+[i])) \n",
    "    if value_minimum > conduct: \n",
    "      value_minimum = conduct \n",
    "      conduct_minimum = j \n",
    "    for k in list(G.neighbors(i))+[i]: \n",
    "      fmatrix_neighseed[k][conduct_minimum] = 1\n",
    "fmatrix_neighseed"
   ]
  },
  {
   "cell_type": "code",
   "execution_count": 73,
   "metadata": {
    "id": "qVY1yGSsuj-1"
   },
   "outputs": [],
   "source": [
    "fmatrix_random = np.zeros((nodes_V,K_Comm))\n",
    "#Random[0,1] Seeds Initalization\n",
    "for i in range(V):\n",
    "    for j in range(29):\n",
    "        fmatrix_random[i][j] = random.random()\n",
    "        fmatrix_random[i][j] = round(fmatrix_random[i][j],6)"
   ]
  },
  {
   "cell_type": "markdown",
   "metadata": {
    "id": "2injWkchHgj9"
   },
   "source": [
    "**2. Matrix factorization: bigCLAM Algorithm**"
   ]
  },
  {
   "cell_type": "code",
   "execution_count": 42,
   "metadata": {
    "id": "wRDXEuZTZ4nv"
   },
   "outputs": [],
   "source": [
    "warnings.filterwarnings(\"ignore\")"
   ]
  },
  {
   "cell_type": "code",
   "execution_count": 48,
   "metadata": {
    "id": "wCFy6qIUYqCq"
   },
   "outputs": [],
   "source": [
    "def matrixFactorization(data_matrix):\n",
    "    p_change=0\n",
    "    Mat = data_matrix\n",
    "    for iter in range(300):\n",
    "        sumNodes = Mat.sum(axis=0) \n",
    "        for i in range(len(Mat)): \n",
    "            neighVals = list(G.neighbors(i)) \n",
    "            sum_V = [0]*K \n",
    "            d_val = [0]*K \n",
    "            for j in neighVals:\n",
    "                if (1-np.exp(-np.matmul(Mat[i],Mat[j].transpose()))): \n",
    "                    #Delta function\n",
    "                    d_update = np.exp(-np.matmul(Mat[i],Mat[j].transpose()))/(1-np.exp(-np.matmul(Mat[i],Mat[j].transpose())))\n",
    "                else: \n",
    "                    d_update = 0 \n",
    "                d_val = (Mat[j]*d_update) + d_val \n",
    "                sum_V = Mat[j] + sum_V \n",
    "            x = sumNodes - Mat[i] - sum_V \n",
    "            finalVal = d_val - x \n",
    "            change = 0.1*sum(finalVal)/sum(Mat[i])\n",
    "            \n",
    "            #Check for learning rate\n",
    "            if change < 0.001:\n",
    "                p_change+=1\n",
    "            Mat[i] = Mat[i] + (0.001*finalVal) \n",
    "            Non_Neg_Vector = Mat[i] < 0 \n",
    "            Mat[i][Non_Neg_Vector] = 0 \n",
    "            if p_change == nodes_V:\n",
    "                break        \n",
    "    return Mat"
   ]
  },
  {
   "cell_type": "code",
   "execution_count": 49,
   "metadata": {
    "id": "7-OIzV7WYqFD"
   },
   "outputs": [],
   "source": [
    "BC_FMatrix_20Percent = matrixFactorization(fmatrix_20percent)"
   ]
  },
  {
   "cell_type": "code",
   "execution_count": 50,
   "metadata": {
    "colab": {
     "base_uri": "https://localhost:8080/"
    },
    "id": "MlUrtfmlaR1d",
    "outputId": "4e679aec-b200-4103-df72-a671e68c1864"
   },
   "outputs": [
    {
     "data": {
      "text/plain": [
       "array([[0., 0., 0., ..., 0., 0., 0.],\n",
       "       [0., 0., 0., ..., 0., 0., 0.],\n",
       "       [0., 0., 0., ..., 0., 0., 0.],\n",
       "       ...,\n",
       "       [0., 0., 0., ..., 0., 0., 0.],\n",
       "       [0., 0., 0., ..., 0., 0., 0.],\n",
       "       [0., 0., 0., ..., 0., 0., 0.]])"
      ]
     },
     "execution_count": 50,
     "metadata": {
      "tags": []
     },
     "output_type": "execute_result"
    }
   ],
   "source": [
    "BC_FMatrix_20Percent"
   ]
  },
  {
   "cell_type": "code",
   "execution_count": 64,
   "metadata": {
    "id": "Hm2mnqfnYqHl"
   },
   "outputs": [],
   "source": [
    "BC_FMatrix_NeighSeed = matrixFactorization(fmatrix_neighseed)"
   ]
  },
  {
   "cell_type": "code",
   "execution_count": 65,
   "metadata": {
    "colab": {
     "base_uri": "https://localhost:8080/"
    },
    "id": "DxiGbGnwbKEE",
    "outputId": "320abfb7-bf15-4621-e6bf-60aaa26d9352"
   },
   "outputs": [
    {
     "data": {
      "text/plain": [
       "array([[0., 0., 0., ..., 0., 0., 0.],\n",
       "       [0., 0., 0., ..., 0., 0., 0.],\n",
       "       [0., 0., 0., ..., 0., 0., 0.],\n",
       "       ...,\n",
       "       [0., 0., 0., ..., 0., 0., 0.],\n",
       "       [0., 0., 0., ..., 0., 0., 0.],\n",
       "       [0., 0., 0., ..., 0., 0., 0.]])"
      ]
     },
     "execution_count": 65,
     "metadata": {
      "tags": []
     },
     "output_type": "execute_result"
    }
   ],
   "source": [
    "BC_FMatrix_NeighSeed"
   ]
  },
  {
   "cell_type": "code",
   "execution_count": 74,
   "metadata": {
    "id": "wbb6fV4WYqJx"
   },
   "outputs": [],
   "source": [
    "BC_FMatrix_Random = matrixFactorization(fmatrix_random)"
   ]
  },
  {
   "cell_type": "code",
   "execution_count": 75,
   "metadata": {
    "colab": {
     "base_uri": "https://localhost:8080/"
    },
    "id": "TOnv4WXIYqNb",
    "outputId": "9bd3e8ea-d653-4a1f-e9c1-35ff4df85112"
   },
   "outputs": [
    {
     "data": {
      "text/plain": [
       "array([[0., 0., 0., ..., 0., 0., 0.],\n",
       "       [0., 0., 0., ..., 0., 0., 0.],\n",
       "       [0., 0., 0., ..., 0., 0., 0.],\n",
       "       ...,\n",
       "       [0., 0., 0., ..., 0., 0., 0.],\n",
       "       [0., 0., 0., ..., 0., 0., 0.],\n",
       "       [0., 0., 0., ..., 0., 0., 0.]])"
      ]
     },
     "execution_count": 75,
     "metadata": {
      "tags": []
     },
     "output_type": "execute_result"
    }
   ],
   "source": [
    "BC_FMatrix_Random"
   ]
  },
  {
   "cell_type": "markdown",
   "metadata": {
    "id": "_vynjmqfeO22"
   },
   "source": [
    "**3. Community Assignment**"
   ]
  },
  {
   "cell_type": "code",
   "execution_count": 51,
   "metadata": {
    "colab": {
     "base_uri": "https://localhost:8080/"
    },
    "id": "4yBKMOl7Cf7y",
    "outputId": "1bbcb65e-dd5a-4f71-c5a9-837dd61ac868"
   },
   "outputs": [
    {
     "data": {
      "text/plain": [
       "0.00010000000050123797"
      ]
     },
     "execution_count": 51,
     "metadata": {
      "tags": []
     },
     "output_type": "execute_result"
    }
   ],
   "source": [
    "delta = math.sqrt(-math.log(1-math.pow(10,-8)))\n",
    "delta"
   ]
  },
  {
   "cell_type": "code",
   "execution_count": 55,
   "metadata": {
    "id": "jMYqodQcZMD9"
   },
   "outputs": [],
   "source": [
    "def communityAssignment(data_matrix, data_SeedMatrix):\n",
    "    matVal = data_matrix\n",
    "    newMatix = data_SeedMatrix\n",
    "    for i in range(len(matVal)):\n",
    "        for j in range(len(matVal[0])):\n",
    "            if matVal[i][j] >= delta:\n",
    "                try:\n",
    "                    newMatix[j][i] = 1\n",
    "                except:\n",
    "                    newMatix[j] = {}\n",
    "                    newMatix[j][i] = 1\n",
    "    return newMatix"
   ]
  },
  {
   "cell_type": "code",
   "execution_count": 56,
   "metadata": {
    "id": "cum14_E-aK6u"
   },
   "outputs": [],
   "source": [
    "def fileWrite(dataValues, file_name):\n",
    "    fileName = file_name\n",
    "    dataMatrix = dataValues\n",
    "    fileN = open('/content/'+file_name,'w')\n",
    "    for key,value in dataMatrix.items():\n",
    "        fileN.write(str(key)+str(\"->\"))\n",
    "        if type(value) is dict:\n",
    "            for k,v in value.items():\n",
    "                lista = []\n",
    "                lista.append(k)\n",
    "            fileN.write(str(lista))\n",
    "            fileN.write(\"\\n\")\n",
    "    fileN.close()"
   ]
  },
  {
   "cell_type": "code",
   "execution_count": 57,
   "metadata": {
    "id": "Lumw2Og_ZMBj"
   },
   "outputs": [],
   "source": [
    "newMat_20percent = dict()\n",
    "resMat_20percent = communityAssignment(BC_FMatrix_20Percent,newMat_20percent)\n",
    "name_20percent = 'Percent_20_Detected.txt'\n",
    "fileWrite(resMat_20percent,name_20percent)"
   ]
  },
  {
   "cell_type": "code",
   "execution_count": 68,
   "metadata": {
    "id": "0w9pw-gJZMHi"
   },
   "outputs": [],
   "source": [
    "newMat_NeighSeed = dict()\n",
    "resMat_NeighSeed = communityAssignment(BC_FMatrix_NeighSeed,newMat_NeighSeed)\n",
    "name_NeighSeed = 'Neighor_Seed_Detected.txt'\n",
    "fileWrite(resMat_NeighSeed,name_NeighSeed)"
   ]
  },
  {
   "cell_type": "code",
   "execution_count": 76,
   "metadata": {
    "id": "UKs_NprFbP-_"
   },
   "outputs": [],
   "source": [
    "newMat_Random = dict()\n",
    "resMat_Random = communityAssignment(BC_FMatrix_Random,newMat_Random)\n",
    "name_Random = 'Random_Detected.txt'\n",
    "fileWrite(resMat_Random,name_Random)"
   ]
  },
  {
   "cell_type": "markdown",
   "metadata": {
    "id": "8CGzmVNzepDy"
   },
   "source": [
    "**4. Evaluation**\n"
   ]
  },
  {
   "cell_type": "code",
   "execution_count": 59,
   "metadata": {
    "id": "hPwyuIwgetDl"
   },
   "outputs": [],
   "source": [
    "GC_Dict = dict()\n",
    "i=0\n",
    "GC_file = '/content/groundtruth_communities.txt'\n",
    "with open(GC_file) as fp:\n",
    "  for line in fp: \n",
    "    vals = [int(a) for a in line.split()]\n",
    "    Result_Dict = {vals[i]: 1 for i in range(0, len(vals))}\n",
    "    GC_Dict[i] = Result_Dict\n",
    "    i+=1"
   ]
  },
  {
   "cell_type": "code",
   "execution_count": 62,
   "metadata": {
    "id": "38Hc4N_WetHA"
   },
   "outputs": [],
   "source": [
    "def RecallFun(data_mat):\n",
    "    data_Vals = data_mat\n",
    "    finalVals = 0\n",
    "    for community, nodes in GC_Dict.items():\n",
    "        old = set(nodes.keys())\n",
    "        if community in data_Vals:\n",
    "            new = set(data_Vals[community].keys())\n",
    "        else:\n",
    "            new = set()\n",
    "        tp = new & old\n",
    "        finalVals += (len(tp)/len(old))\n",
    "    finalVals = finalVals/K\n",
    "    return finalVals"
   ]
  }
 ],
 "metadata": {
  "accelerator": "TPU",
  "colab": {
   "collapsed_sections": [],
   "name": "Project_5_Prudhvi.ipynb",
   "provenance": []
  },
  "kernelspec": {
   "display_name": "Python 3",
   "language": "python",
   "name": "python3"
  },
  "language_info": {
   "codemirror_mode": {
    "name": "ipython",
    "version": 3
   },
   "file_extension": ".py",
   "mimetype": "text/x-python",
   "name": "python",
   "nbconvert_exporter": "python",
   "pygments_lexer": "ipython3",
   "version": "3.7.3"
  }
 },
 "nbformat": 4,
 "nbformat_minor": 1
}
