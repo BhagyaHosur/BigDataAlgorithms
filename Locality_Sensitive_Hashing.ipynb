{
 "cells": [
  {
   "cell_type": "code",
   "execution_count": 1,
   "metadata": {},
   "outputs": [],
   "source": [
    "import random\n",
    "import os\n",
    "import numpy as np\n",
    "import re\n",
    "import sys\n",
    "import binascii\n",
    "import random\n",
    "import os\n",
    "import numpy as np\n",
    "from random import randrange\n",
    "from shutil import copyfile\n",
    "import math\n",
    "\n",
    "\n",
    "\n",
    "from random import randrange\n",
    "from shutil import copyfile"
   ]
  },
  {
   "cell_type": "code",
   "execution_count": 2,
   "metadata": {},
   "outputs": [],
   "source": [
    "n_1=0\n",
    "n_2=0\n",
    "n_3=0\n",
    "MY_ID = '313'\n",
    "# MY_ID should be string\n",
    "# Example MY_ID='819'\n",
    "\n",
    "task_dict = {0:'taska',1:'taskb',2:'taskc',3:'taskd',4:'taske'}\n",
    "id_dict = {0:n_1,1:n_2,2:n_3}\n",
    "\n",
    "try:\n",
    "    n_1 = int(MY_ID[-1]) % 5\n",
    "    n_2 = int(MY_ID[-2]) % 5\n",
    "    n_3 = int(MY_ID[-3]) % 5\n",
    "    \n",
    "    while n_1 == n_2 or n_1 == n_3:\n",
    "        n_1 = (n_1 + 1) % 5\n",
    "    \n",
    "    while n_1 == n_2 or n_2 == n_3:\n",
    "        n_2 = (n_2 + 1) % 5\n",
    "        \n",
    "except Exception as e:\n",
    "    print('Please enter a valid ID...')"
   ]
  },
  {
   "cell_type": "code",
   "execution_count": 3,
   "metadata": {},
   "outputs": [],
   "source": [
    "data_path = 'Data/corpus-20090418' \n",
    "# Edit this path if the data directory is not in the current directory\n",
    "\n",
    "try:\n",
    "    os.makedirs('Data_Sample')\n",
    "    os.makedirs('Original_Sample')\n",
    "except Exception as e:\n",
    "    pass\n",
    "\n",
    "for i in range(3):\n",
    "    task = task_dict[id_dict[i]]\n",
    "    \n",
    "    for file in os.listdir(data_path):\n",
    "        if task in file:\n",
    "            if 'orig' in file:\n",
    "                copyfile(data_path + '/' + file, 'Original_Sample/' + file)\n",
    "            else:\n",
    "                copyfile(data_path + '/' + file, 'Data_Sample/' + file)"
   ]
  },
  {
   "cell_type": "code",
   "execution_count": 4,
   "metadata": {},
   "outputs": [],
   "source": [
    "documents = {}\n",
    "for file in os.listdir(\"Data_Sample/\"):\n",
    "    if file.endswith(\".txt\"):\n",
    "        data = ''\n",
    "        filename = os.path.join(\"Data_Sample/\", file)\n",
    "        f = open(filename, 'r',encoding=\"unicode_escape\")\n",
    "        data = data + f.read()\n",
    "        (key, val) = filename,data\n",
    "        documents[(key)] = re.sub(\"[^\\w]\", \" \", val).lower().split()"
   ]
  },
  {
   "cell_type": "code",
   "execution_count": 5,
   "metadata": {},
   "outputs": [
    {
     "name": "stdout",
     "output_type": "stream",
     "text": [
      "Data_Sample/g0pA_taska.txt\n",
      "['inheritance', 'is', 'a', 'basic', 'concept', 'of', 'object', 'oriented', 'programming', 'where', 'the', 'basic', 'idea', 'is', 'to', 'create', 'new', 'classes', 'that', 'add', 'extra', 'detail', 'to', 'existing', 'classes', 'this', 'is', 'done', 'by', 'allowing', 'the', 'new', 'classes', 'to', 'reuse', 'the', 'methods', 'and', 'variables', 'of', 'the', 'existing', 'classes', 'and', 'new', 'methods', 'and', 'classes', 'are', 'added', 'to', 'specialise', 'the', 'new', 'class', 'inheritance', 'models', 'the', 'â', 'is', 'kind', 'ofâ', 'relationship', 'between', 'entities', 'or', 'objects', 'for', 'example', 'postgraduates', 'and', 'undergraduates', 'are', 'both', 'kinds', 'of', 'student', 'this', 'kind', 'of', 'relationship', 'can', 'be', 'visualised', 'as', 'a', 'tree', 'structure', 'where', 'â', 'studentâ', 'would', 'be', 'the', 'more', 'general', 'root', 'node', 'and', 'both', 'â', 'postgraduateâ', 'and', 'â', 'undergraduateâ', 'would', 'be', 'more', 'specialised', 'extensions', 'of', 'the', 'â', 'studentâ', 'node', 'or', 'the', 'child', 'nodes', 'in', 'this', 'relationship', 'â', 'studentâ', 'would', 'be', 'known', 'as', 'the', 'superclass', 'or', 'parent', 'class', 'whereas', 'â', 'postgraduateâ', 'would', 'be', 'known', 'as', 'the', 'subclass', 'or', 'child', 'class', 'because', 'the', 'â', 'postgraduateâ', 'class', 'extends', 'the', 'â', 'studentâ', 'class', 'inheritance', 'can', 'occur', 'on', 'several', 'layers', 'where', 'if', 'visualised', 'would', 'display', 'a', 'larger', 'tree', 'structure', 'for', 'example', 'we', 'could', 'further', 'extend', 'the', 'â', 'postgraduateâ', 'node', 'by', 'adding', 'two', 'extra', 'extended', 'classes', 'to', 'it', 'called', 'â', 'msc', 'studentâ', 'and', 'â', 'phd', 'studentâ', 'as', 'both', 'these', 'types', 'of', 'student', 'are', 'kinds', 'of', 'postgraduate', 'student', 'this', 'would', 'mean', 'that', 'both', 'the', 'â', 'msc', 'studentâ', 'and', 'â', 'phd', 'studentâ', 'classes', 'would', 'inherit', 'methods', 'and', 'variables', 'from', 'both', 'the', 'â', 'postgraduateâ', 'and', 'â', 'student', 'classesâ']\n",
      "Data_Sample/g0pB_taska.txt\n",
      "['inheritance', 'is', 'a', 'basic', 'concept', 'in', 'object', 'oriented', 'programming', 'it', 'models', 'the', 'reuse', 'of', 'existing', 'class', 'code', 'in', 'new', 'classes', 'â', 'the', 'â', 'is', 'a', 'kind', 'ofâ', 'relationship', 'for', 'example', 'a', 'house', 'is', 'a', 'kind', 'of', 'building', 'similarly', 'an', 'office', 'block', 'is', 'a', 'kind', 'of', 'building', 'both', 'house', 'and', 'office', 'block', 'will', 'inherit', 'certain', 'characteristics', 'from', 'buildings', 'but', 'also', 'have', 'their', 'own', 'personal', 'characteristics', 'â', 'a', 'house', 'may', 'have', 'a', 'number', 'of', 'occupants', 'whereas', 'an', 'office', 'block', 'will', 'have', 'a', 'number', 'of', 'offices', 'however', 'these', 'personal', 'characteristics', 'don', 't', 'apply', 'to', 'all', 'types', 'of', 'buildings', 'in', 'this', 'example', 'the', 'building', 'would', 'be', 'considered', 'the', 'superclass', 'â', 'it', 'contains', 'general', 'characteristics', 'for', 'other', 'objects', 'to', 'inherit', 'â', 'and', 'the', 'house', 'and', 'office', 'block', 'are', 'both', 'subclasses', 'â', 'they', 'are', 'specific', 'types', 'and', 'specialise', 'the', 'characteristics', 'of', 'the', 'superclass', 'java', 'allows', 'object', 'inheritance', 'when', 'one', 'class', 'inherits', 'from', 'another', 'class', 'all', 'the', 'public', 'variables', 'and', 'methods', 'are', 'available', 'to', 'the', 'subclass', 'public', 'class', 'shape', 'private', 'color', 'colour', 'public', 'void', 'setcolour', 'color', 'newcolour', 'colour', 'newcolour', 'public', 'class', 'circle', 'extends', 'shape', 'private', 'int', 'radius', 'public', 'void', 'setradius', 'int', 'newradius', 'radius', 'newradius', 'in', 'this', 'example', 'the', 'circle', 'class', 'is', 'a', 'subclass', 'of', 'the', 'shape', 'class', 'the', 'shape', 'class', 'provides', 'a', 'public', 'setcolour', 'method', 'which', 'will', 'be', 'available', 'to', 'the', 'circle', 'class', 'and', 'other', 'subclasses', 'of', 'shape', 'however', 'the', 'private', 'variable', 'colour', 'as', 'defined', 'in', 'the', 'shape', 'class', 'will', 'not', 'be', 'available', 'for', 'direct', 'manipulation', 'by', 'the', 'circle', 'class', 'because', 'it', 'is', 'not', 'inherited', 'the', 'circle', 'class', 'specialises', 'the', 'shape', 'class', 'which', 'means', 'that', 'setradius', 'is', 'available', 'to', 'the', 'circle', 'class', 'and', 'all', 'subclasses', 'of', 'circle', 'but', 'it', 'isn', 't', 'available', 'to', 'the', 'superclass', 'shape']\n",
      "Data_Sample/g0pC_taska.txt\n",
      "['inheritance', 'in', 'object', 'oriented', 'programming', 'is', 'where', 'a', 'new', 'class', 'is', 'formed', 'using', 'classes', 'which', 'have', 'allready', 'been', 'defined', 'these', 'classes', 'have', 'have', 'some', 'of', 'the', 'behavior', 'and', 'attributes', 'which', 'where', 'existent', 'in', 'the', 'classes', 'that', 'it', 'inherited', 'from', 'the', 'peropos', 'of', 'inheritance', 'in', 'object', 'oriented', 'programming', 'is', 'to', 'minimize', 'the', 'reuse', 'of', 'existing', 'code', 'without', 'modification', 'inheritance', 'allowes', 'classes', 'to', 'be', 'categorized', 'similer', 'to', 'the', 'way', 'humans', 'catagorize', 'it', 'also', 'provides', 'a', 'way', 'to', 'generalize', 'du', 'to', 'the', 'is', 'a', 'relationship', 'between', 'classes', 'for', 'example', 'a', 'cow', 'is', 'a', 'generalization', 'of', 'animal', 'similarly', 'so', 'are', 'pigs', 'cheaters', 'defeining', 'classes', 'in', 'this', 'way', 'allows', 'us', 'to', 'define', 'attributes', 'and', 'behaviours', 'which', 'are', 'commen', 'to', 'all', 'animals', 'in', 'one', 'class', 'so', 'cheaters', 'would', 'natuarly', 'inheart', 'properities', 'commen', 'to', 'all', 'animals', 'the', 'advantage', 'of', 'inheritance', 'is', 'that', 'classes', 'which', 'would', 'otherwise', 'have', 'alot', 'of', 'similar', 'code', 'can', 'instead', 'shair', 'the', 'same', 'code', 'thus', 'reducing', 'the', 'complexity', 'of', 'the', 'program', 'inheritance', 'therefore', 'can', 'also', 'be', 'refered', 'to', 'as', 'polymorphism', 'which', 'is', 'where', 'many', 'pieces', 'of', 'code', 'are', 'controled', 'by', 'shared', 'control', 'code', 'inheritance', 'can', 'be', 'accomplished', 'by', 'overriding', 'methods', 'in', 'its', 'ancestor', 'or', 'by', 'adding', 'new', 'methods']\n",
      "Data_Sample/g0pD_taska.txt\n",
      "['inheritance', 'in', 'object', 'oriented', 'programming', 'is', 'a', 'way', 'to', 'form', 'new', 'classes', 'using', 'classes', 'that', 'have', 'already', 'been', 'defined', 'the', 'new', 'classes', 'known', 'as', 'derived', 'classes', 'inherit', 'attributes', 'and', 'behaviour', 'of', 'the', 'existing', 'classes', 'which', 'are', 'referred', 'to', 'as', 'base', 'classes', 'with', 'little', 'or', 'no', 'modification', 'it', 'is', 'intended', 'to', 'help', 'reuse', 'existing', 'code', 'it', 'is', 'typically', 'accomplished', 'either', 'by', 'overriding', 'one', 'or', 'more', 'methods', 'exposed', 'by', 'ancestor', 'or', 'by', 'adding', 'new', 'methods', 'to', 'those', 'exposed', 'by', 'an', 'ancestor', 'inheritance', 'is', 'also', 'sometimes', 'called', 'generalization', 'because', 'there', 'is', 'a', 'relationships', 'represent', 'a', 'hierarchy', 'between', 'classes', 'of', 'objects', 'a', 'â', 'fruitâ', 'for', 'instance', 'is', 'a', 'generalization', 'of', 'orange', 'mango', 'apples', 'and', 'many', 'others', 'one', 'can', 'consider', 'fruit', 'to', 'be', 'an', 'abstraction', 'of', 'apple', 'orange', 'etc', 'since', 'apples', 'are', 'fruit', 'i', 'e', 'an', 'apple', 'is', 'a', 'fruit', 'conversely', 'apples', 'may', 'naturally', 'inherit', 'all', 'the', 'properties', 'common', 'to', 'all', 'fruit', 'such', 'as', 'being', 'a', 'fleshy', 'container', 'for', 'the', 'seed', 'of', 'a', 'plant', 'an', 'advantage', 'of', 'inheritance', 'is', 'that', 'modules', 'with', 'sufficiently', 'similar', 'interfaces', 'can', 'share', 'a', 'lot', 'of', 'code', 'reducing', 'the', 'complexity', 'of', 'the', 'program']\n",
      "Data_Sample/g0pE_taska.txt\n",
      "['in', 'object', 'oriented', 'programming', 'inheritance', 'is', 'a', 'way', 'to', 'form', 'new', 'classes', 'instances', 'of', 'which', 'are', 'called', 'objects', 'using', 'classes', 'that', 'have', 'already', 'been', 'defined', 'the', 'inheritance', 'concept', 'was', 'invented', 'in', '1967', 'for', 'simula', 'the', 'new', 'classes', 'known', 'as', 'derived', 'classes', 'take', 'over', 'or', 'inherit', 'attribute', 'and', 'behaviour', 'of', 'the', 'pre', 'existing', 'classes', 'which', 'are', 'referred', 'to', 'as', 'base', 'classes', 'or', 'ancestor', 'classes', 'it', 'is', 'intended', 'to', 'help', 'reuse', 'existing', 'code', 'with', 'little', 'or', 'no', 'modification', 'inheritance', 'provides', 'the', 'support', 'for', 'representation', 'by', 'categorization', 'in', 'computer', 'languages', 'categorization', 'is', 'a', 'powerful', 'mechanism', 'number', 'of', 'information', 'processing', 'crucial', 'to', 'human', 'learning', 'by', 'means', 'of', 'generalization', 'what', 'is', 'known', 'about', 'specific', 'entities', 'is', 'applied', 'to', 'a', 'wider', 'group', 'given', 'a', 'belongs', 'relation', 'can', 'be', 'established', 'and', 'cognitive', 'economy', 'less', 'information', 'needs', 'to', 'be', 'stored', 'about', 'each', 'specific', 'entity', 'only', 'its', 'particularities', 'inheritance', 'is', 'also', 'sometimes', 'called', 'generalization', 'because', 'the', 'is', 'a', 'relationships', 'represent', 'a', 'hierarchy', 'between', 'classes', 'of', 'objects', 'for', 'instance', 'a', 'fruit', 'is', 'a', 'generalization', 'of', 'apple', 'orange', 'mango', 'and', 'many', 'others', 'one', 'can', 'consider', 'fruit', 'to', 'be', 'an', 'abstraction', 'of', 'apple', 'orange', 'etc', 'conversely', 'since', 'apples', 'are', 'fruit', 'i', 'e', 'an', 'apple', 'is', 'a', 'fruit', 'apples', 'may', 'naturally', 'inherit', 'all', 'the', 'properties', 'common', 'to', 'all', 'fruit', 'such', 'as', 'being', 'a', 'fleshy', 'container', 'for', 'the', 'seed', 'of', 'a', 'plant', 'an', 'advantage', 'of', 'inheritance', 'is', 'that', 'modules', 'with', 'sufficiently', 'similar', 'interfaces', 'can', 'share', 'a', 'lot', 'of', 'code', 'reducing', 'the', 'complexity', 'of', 'the', 'program', 'inheritance', 'therefore', 'has', 'another', 'view', 'a', 'dual', 'called', 'polymorphism', 'which', 'describes', 'many', 'pieces', 'of', 'code', 'being', 'controlled', 'by', 'shared', 'control', 'code', 'inheritance', 'is', 'typically', 'accomplished', 'either', 'by', 'overriding', 'replacing', 'one', 'or', 'more', 'methods', 'exposed', 'by', 'ancestor', 'or', 'by', 'adding', 'new', 'methods', 'to', 'those', 'exposed', 'by', 'an', 'ancestor']\n",
      "Data_Sample/g1pA_taska.txt\n",
      "['in', 'object', 'oriented', 'programming', 'objects', 'are', 'grouped', 'together', 'into', 'classes', 'according', 'to', 'their', 'type', 'structure', 'and', 'the', 'functions', 'that', 'can', 'be', 'performed', 'on', 'them', 'inheritance', 'is', 'a', 'process', 'in', 'object', 'oriented', 'programming', 'in', 'which', 'objects', 'acquire', 'or', 'inherit', 'the', 'properties', 'of', 'objects', 'of', 'another', 'class', 'it', 'is', 'therefore', 'used', 'to', 'create', 'relationships', 'between', 'one', 'object', 'and', 'another', 'each', 'class', 'groups', 'together', 'objects', 'of', 'a', 'similar', 'type', 'with', 'similar', 'properties', 'new', 'classes', 'can', 'be', 'formed', 'by', 'this', 'process', 'whose', 'objects', 'will', 'have', 'properties', 'of', 'both', 'the', 'classes', 'from', 'which', 'this', 'new', 'class', 'is', 'formed', 'a', 'superclass', 'has', 'all', 'of', 'the', 'properties', 'of', 'the', 'subclasses', 'below', 'it', 'at', 'the', 'same', 'time', 'subclasses', 'are', 'each', 'distinctive', 'from', 'each', 'other', 'but', 'related', 'via', 'the', 'superclass', 'subclasses', 'are', 'said', 'to', 'â', 'extendâ', 'superclasses', 'due', 'to', 'these', 'relationships', 'object', 'oriented', 'programmes', 'tend', 'to', 'be', 'easier', 'to', 'modify', 'since', 'they', 'do', 'not', 'need', 'to', 'be', 'changed', 'when', 'a', 'new', 'object', 'with', 'different', 'properties', 'is', 'added', 'instead', 'a', 'new', 'object', 'is', 'made', 'to', 'inherit', 'properties', 'of', 'objects', 'which', 'already', 'exist', 'inheritance', 'can', 'be', 'divided', 'into', 'two', 'main', 'processes', 'single', 'inheritance', 'and', 'multiple', 'inheritance', 'single', 'inheritance', 'means', 'that', 'the', 'class', 'can', 'only', 'inherit', 'from', 'one', 'other', 'class', 'whereas', 'multiple', 'inheritance', 'allows', 'for', 'inheritance', 'from', 'several', 'classes']\n",
      "Data_Sample/g1pB_taska.txt\n",
      "['inheritance', 'is', 'one', 'of', 'the', 'basic', 'concepts', 'of', 'object', 'oriented', 'programming', 'it', 's', 'objective', 'is', 'to', 'add', 'more', 'detail', 'to', 'pre', 'existing', 'classes', 'whilst', 'still', 'allowing', 'the', 'methods', 'and', 'variables', 'of', 'these', 'classes', 'to', 'be', 'reused', 'the', 'easiest', 'way', 'to', 'look', 'at', 'inheritance', 'is', 'as', 'an', 'is', 'a', 'kind', 'of', 'relationship', 'for', 'example', 'a', 'guitar', 'is', 'a', 'kind', 'of', 'string', 'instrument', 'electric', 'acoustic', 'and', 'steel', 'stringed', 'are', 'all', 'types', 'of', 'guitar', 'the', 'further', 'down', 'an', 'inheritance', 'tree', 'you', 'get', 'the', 'more', 'specific', 'the', 'classes', 'become', 'an', 'example', 'here', 'would', 'be', 'books', 'books', 'generally', 'fall', 'into', 'two', 'categories', 'fiction', 'and', 'non', 'fiction', 'each', 'of', 'these', 'can', 'then', 'be', 'sub', 'divided', 'into', 'more', 'groups', 'fiction', 'for', 'example', 'can', 'be', 'split', 'into', 'fantasy', 'horror', 'romance', 'and', 'many', 'more', 'non', 'fiction', 'splits', 'the', 'same', 'way', 'into', 'other', 'topics', 'such', 'as', 'history', 'geography', 'cooking', 'etc', 'history', 'of', 'course', 'can', 'be', 'sub', 'divided', 'into', 'time', 'periods', 'like', 'the', 'romans', 'the', 'elizabethans', 'the', 'world', 'wars', 'and', 'so', 'on']\n",
      "Data_Sample/g1pD_taska.txt\n",
      "['inheritance', 'is', 'a', 'method', 'of', 'forming', 'new', 'classes', 'using', 'predefined', 'classes', 'the', 'new', 'classes', 'are', 'called', 'derived', 'classes', 'and', 'they', 'inherit', 'the', 'behaviours', 'and', 'attributes', 'of', 'the', 'base', 'classes', 'it', 'was', 'intended', 'to', 'allow', 'existing', 'code', 'to', 'be', 'used', 'again', 'with', 'minimal', 'or', 'no', 'alteration', 'it', 'also', 'offers', 'support', 'for', 'representation', 'by', 'categorization', 'in', 'computer', 'languages', 'this', 'is', 'a', 'powerful', 'mechanism', 'of', 'information', 'processing', 'vital', 'to', 'human', 'learning', 'by', 'means', 'of', 'generalization', 'and', 'cognitive', 'economy', 'inheritance', 'is', 'occasionally', 'referred', 'to', 'as', 'generalization', 'due', 'to', 'the', 'fact', 'that', 'is', 'a', 'relationships', 'represent', 'a', 'hierarchy', 'between', 'classes', 'of', 'objects', 'inheritance', 'has', 'the', 'advantage', 'of', 'reducing', 'the', 'complexity', 'of', 'a', 'program', 'since', 'modules', 'with', 'very', 'similar', 'interfaces', 'can', 'share', 'lots', 'of', 'code', 'due', 'to', 'this', 'inheritance', 'has', 'another', 'view', 'called', 'polymorphism', 'where', 'many', 'sections', 'of', 'code', 'are', 'being', 'controlled', 'by', 'some', 'shared', 'control', 'code', 'inheritance', 'is', 'normally', 'achieved', 'by', 'overriding', 'one', 'or', 'more', 'methods', 'exposed', 'by', 'ancestor', 'or', 'by', 'creating', 'new', 'methods', 'on', 'top', 'of', 'those', 'exposed', 'by', 'an', 'ancestor', 'inheritance', 'has', 'a', 'variety', 'of', 'uses', 'each', 'different', 'use', 'focuses', 'on', 'different', 'properties', 'for', 'example', 'the', 'external', 'behaviour', 'of', 'objects', 'internal', 'structure', 'of', 'an', 'object', 'inheritance', 'hierarchy', 'structure', 'or', 'software', 'engineering', 'properties', 'of', 'inheritance', 'occasionally', 'it', 'is', 'advantageous', 'to', 'differentiate', 'between', 'these', 'uses', 'as', 'it', 'is', 'not', 'necessarily', 'noticeable', 'from', 'context']\n",
      "Data_Sample/g2pA_taska.txt\n",
      "['inheritance', 'allows', 'programs', 'developed', 'in', 'an', 'object', 'orientated', 'language', 'to', 'reuse', 'code', 'without', 'having', 'it', 'replicated', 'unnecessarily', 'elsewhere', 'within', 'the', 'program', 'to', 'achieve', 'this', 'the', 'programmer', 'has', 'to', 'note', 'generalisations', 'and', 'similarities', 'about', 'various', 'aspects', 'of', 'the', 'program', 'for', 'example', 'a', 'program', 'could', 'exist', 'to', 'model', 'different', 'forms', 'of', 'transport', 'at', 'first', 'glance', 'a', 'car', 'and', 'a', 'train', 'may', 'not', 'have', 'much', 'in', 'common', 'but', 'abstractly', 'both', 'will', 'have', 'a', 'speed', 'at', 'which', 'they', 'are', 'travelling', 'a', 'direction', 'and', 'a', 'current', 'position', 'methods', 'utilising', 'this', 'data', 'can', 'be', 'specified', 'high', 'up', 'in', 'the', 'inheritance', 'hierarchy', 'for', 'example', 'in', 'a', 'transport', 'class', 'for', 'example', 'you', 'could', 'have', 'a', 'method', 'which', 'works', 'out', 'the', 'new', 'position', 'of', 'a', 'train', 'after', 'travelling', 'x', 'minutes', 'in', 'direction', 'y', 'likewise', 'you', 'might', 'want', 'to', 'be', 'able', 'to', 'find', 'out', 'the', 'same', 'information', 'for', 'an', 'object', 'of', 'the', 'type', 'car', 'inheritance', 'means', 'that', 'if', 'such', 'a', 'method', 'was', 'defined', 'in', 'the', 'superclass', 'of', 'the', 'train', 'and', 'car', 'classes', 'any', 'car', 'or', 'train', 'object', 'can', 'utilise', 'it', 'the', 'train', 'and', 'car', 'subclasses', 'are', 'said', 'to', 'extend', 'the', 'transport', 'class', 'as', 'they', 'will', 'have', 'additional', 'characteristics', 'which', 'they', 'don', 't', 'share', 'e', 'g', 'passenger', 'capacity', 'would', 'be', 'a', 'class', 'variable', 'of', 'both', 'car', 'and', 'train', 'but', 'have', 'different', 'values', 'and', 'a', 'train', 'may', 'have', 'methods', 'along', 'the', 'lines', 'of', 'is', 'toilet', 'engaged', 'if', 'you', 'then', 'wanted', 'to', 'add', 'additional', 'forms', 'of', 'transport', 'such', 'as', 'an', 'aeroplane', 'you', 'may', 'wish', 'for', 'that', 'also', 'to', 'have', 'a', 'toilet', 'engaged', 'function', 'then', 'you', 'could', 'have', 'an', 'extended', 'hierarchy', 'where', 'a', 'mass', 'transport', 'class', 'extends', 'the', 'transport', 'class', 'under', 'which', 'you', 'd', 'have', 'a', 'train', 'and', 'aeroplane', 'which', 'would', 'inherit', 'characteristics', 'from', 'both', 'super', 'classes']\n",
      "Data_Sample/g2pB_taska.txt\n",
      "['inheritance', 'is', 'an', 'important', 'feature', 'in', 'object', 'orientated', 'programming', 'this', 'is', 'because', 'it', 'allows', 'new', 'classes', 'to', 'be', 'made', 'that', 'extend', 'previous', 'classes', 'and', 'to', 'go', 'into', 'more', 'detail', 'this', 'is', 'carried', 'out', 'by', 'allowing', 'the', 'new', 'class', 'to', 'reuse', 'the', 'existing', 'class', 'methods', 'and', 'variables', 'whilst', 'also', 'creating', 'class', 'specific', 'methods', 'and', 'variables', 'this', 'means', 'that', 'the', 'new', 'class', 'the', 'subclass', 'is', 'a', 'more', 'specialised', 'version', 'of', 'the', 'original', 'or', 'superclass', 'because', 'of', 'this', 'it', 'means', 'that', 'the', 'subclass', 'can', 'use', 'all', 'the', 'public', 'methods', 'and', 'variables', 'from', 'the', 'superclass', 'however', 'any', 'private', 'methods', 'or', 'variables', 'are', 'still', 'private', 'also', 'it', 'should', 'be', 'noted', 'that', 'a', 'class', 'can', 'only', 'extend', 'one', 'class', 'e', 'g', 'can', 'only', 'be', 'a', 'subclass', 'to', 'one', 'superclass', 'however', 'a', 'superclass', 'can', 'have', 'more', 'then', 'one', 'subclass', 'and', 'a', 'class', 'can', 'both', 'be', 'a', 'subclass', 'and', 'a', 'superclass', 'if', 'this', 'occurs', 'then', 'all', 'of', 'the', 'non', 'private', 'methods', 'and', 'variables', 'can', 'be', 'used', 'by', 'the', 'most', 'specialised', 'class', 'this', 'means', 'that', 'inheritance', 'is', 'used', 'when', 'types', 'have', 'common', 'factors', 'and', 'these', 'would', 'be', 'put', 'into', 'the', 'superclass', 'then', 'the', 'subclass', 'es', 'then', 'extend', 'these', 'to', 'add', 'more', 'detail', 'an', 'example', 'of', 'this', 'could', 'be', 'using', 'a', 'superclass', 'of', 'employee', 'and', 'then', 'to', 'have', 'two', 'subclasses', 'called', 'fulltime', 'and', 'part', 'time', 'as', 'employee', 'could', 'have', 'name', 'address', 'and', 'other', 'details', 'whilst', 'full', 'time', 'could', 'just', 'have', 'salary', 'and', 'part', 'time', 'could', 'work', 'out', 'the', 'salary', 'from', 'part', 'time', 'hours', 'worked', 'as', 'the', 'full', 'time', 'members', 'of', 'staff', 'wouldn', 't', 'need', 'these']\n",
      "Data_Sample/g2pC_taska.txt\n",
      "['inheritance', 'is', 'a', 'way', 'to', 'form', 'new', 'classes', 'instances', 'of', 'which', 'are', 'called', 'objects', 'using', 'classes', 'that', 'have', 'already', 'been', 'defined', 'the', 'new', 'classes', 'known', 'as', 'derived', 'classes', 'take', 'over', 'or', 'inherit', 'attributes', 'and', 'behavior', 'of', 'the', 'pre', 'existing', 'classes', 'which', 'are', 'referred', 'to', 'as', 'base', 'classes', 'or', 'ancestor', 'classes', 'it', 'is', 'intended', 'to', 'help', 'reuse', 'existing', 'code', 'with', 'little', 'or', 'no', 'modification', 'an', 'advantage', 'of', 'inheritance', 'is', 'that', 'modules', 'with', 'sufficiently', 'similar', 'interfaces', 'can', 'share', 'a', 'lot', 'of', 'code', 'reducing', 'the', 'complexity', 'of', 'the', 'program', 'inheritance', 'therefore', 'has', 'another', 'view', 'a', 'dual', 'called', 'polymorphism', 'which', 'describes', 'many', 'pieces', 'of', 'code', 'being', 'controlled', 'by', 'shared', 'control', 'code', 'inheritance', 'is', 'typically', 'accomplished', 'either', 'by', 'overriding', 'replacing', 'one', 'or', 'more', 'methods', 'exposed', 'by', 'ancestor', 'or', 'by', 'adding', 'new', 'methods', 'to', 'those', 'exposed', 'by', 'an', 'ancestor', 'in', 'defining', 'this', 'inheritance', 'hierarchy', 'we', 'have', 'already', 'defined', 'certain', 'restrictions', 'not', 'all', 'of', 'which', 'are', 'desirable', 'singleness', 'using', 'single', 'inheritance', 'a', 'subclass', 'can', 'inherit', 'from', 'only', 'one', 'superclass', 'visibility', 'whenever', 'client', 'code', 'has', 'access', 'to', 'an', 'object', 'it', 'generally', 'has', 'access', 'to', 'all', 'the', 'object', 's', 'superclass', 'data', 'static', 'the', 'inheritance', 'hierarchy', 'of', 'an', 'object', 'is', 'fixed', 'at', 'instantiation', 'when', 'the', 'object', 's', 'type', 'is', 'selected', 'and', 'does', 'not', 'change', 'with', 'time']\n",
      "Data_Sample/g2pE_taska.txt\n",
      "['when', 'we', 'talk', 'about', 'inheritance', 'in', 'object', 'oriented', 'programming', 'languages', 'which', 'is', 'a', 'concept', 'that', 'was', 'invented', 'in', '1967', 'for', 'simula', 'we', 'are', 'usually', 'talking', 'about', 'a', 'way', 'to', 'form', 'new', 'classes', 'and', 'classes', 'are', 'instances', 'of', 'which', 'are', 'called', 'objects', 'and', 'involve', 'using', 'classes', 'that', 'have', 'already', 'been', 'defined', 'derived', 'classes', 'are', 'intended', 'to', 'help', 'reuse', 'existing', 'code', 'with', 'little', 'or', 'no', 'modification', 'and', 'are', 'the', 'new', 'classes', 'that', 'take', 'over', 'or', 'inherit', 'attributes', 'and', 'behavior', 'of', 'the', 'pre', 'existing', 'classes', 'usually', 'referred', 'to', 'as', 'base', 'classes', 'or', 'ancestor', 'classes', 'categorization', 'in', 'computer', 'languages', 'is', 'a', 'powerful', 'way', 'number', 'of', 'processing', 'information', 'and', 'inheritance', 'provides', 'the', 'support', 'for', 'representation', 'by', 'categorization', 'furthermore', 'it', 'is', 'fundamental', 'for', 'helping', 'humans', 'learn', 'by', 'means', 'of', 'generalization', 'in', 'what', 'is', 'known', 'about', 'specific', 'entities', 'is', 'applied', 'to', 'a', 'wider', 'group', 'given', 'a', 'belongs', 'relation', 'can', 'be', 'established', 'and', 'cognitive', 'processing', 'which', 'involves', 'less', 'information', 'being', 'acquired', 'to', 'be', 'stored', 'about', 'each', 'specific', 'entity', 'but', 'in', 'actual', 'fact', 'only', 'its', 'particularities', 'an', 'instance', 'of', 'a', 'fruit', 'is', 'a', 'generalization', 'of', 'apple', 'orange', 'mango', 'and', 'many', 'others', 'inheritance', 'can', 'also', 'sometimes', 'be', 'referred', 'to', 'as', 'generalization', 'because', 'is', 'a', 'relationships', 'represent', 'a', 'hierarchy', 'amongst', 'classes', 'of', 'objects', 'it', 'can', 'be', 'considered', 'that', 'fruit', 'is', 'an', 'abstraction', 'of', 'apple', 'orange', 'etc', 'conversely', 'since', 'apples', 'are', 'fruit', 'they', 'may', 'naturally', 'inherit', 'all', 'the', 'properties', 'common', 'to', 'all', 'fruit', 'such', 'as', 'being', 'a', 'fleshy', 'container', 'for', 'the', 'seed', 'of', 'a', 'plant', 'modules', 'with', 'sufficiently', 'similarities', 'in', 'interfaces', 'would', 'be', 'able', 'to', 'share', 'a', 'lot', 'of', 'code', 'and', 'therefore', 'reducing', 'the', 'complexity', 'of', 'the', 'program', 'this', 'can', 'be', 'known', 'as', 'one', 'of', 'the', 'advantages', 'of', 'inheritance', 'therefore', 'inheritance', 'can', 'be', 'known', 'to', 'have', 'a', 'further', 'view', 'a', 'dual', 'which', 'describes', 'many', 'parts', 'of', 'code', 'that', 'are', 'under', 'control', 'of', 'shared', 'control', 'code', 'named', 'as', 'polymorphism', 'on', 'the', 'other', 'hand', 'inheritance', 'is', 'normally', 'accomplished', 'either', 'by', 'replacing', 'one', 'or', 'more', 'methods', 'exposed', 'by', 'ancestor', 'or', 'by', 'adding', 'new', 'methods', 'to', 'those', 'exposed', 'by', 'an', 'ancestor', 'a', 'well', 'known', 'term', 'used', 'for', 'this', 'replacing', 'act', 'is', 'called', 'overriding']\n",
      "Data_Sample/g3pA_taska.txt\n",
      "['in', 'object', 'oriented', 'programming', 'inheritance', 'is', 'the', 'ability', 'to', 'specify', 'one', 'class', 'to', 'be', 'a', 'subclass', 'of', 'another', 'this', 'leads', 'to', 'a', 'hierarchy', 'of', 'classes', 'with', 'the', 'child', 'classes', 'inheriting', 'and', 'specialising', 'and', 'sometimes', 'adding', 'to', 'the', 'functionality', 'and', 'data', 'structures', 'of', 'the', 'parent', 'classes', 'the', 'hierarchy', 'that', 'is', 'formed', 'is', 'also', 'useful', 'for', 'the', 'organisation', 'of', 'classes', 'and', 'objects', 'as', 'it', 'defines', 'a', 'relationship', 'between', 'the', 'child', 'and', 'the', 'parent', 'the', 'child', 'class', 'is', 'a', 'kind', 'of', 'the', 'parent', 'class', 'inheritance', 'is', 'useful', 'for', 'situations', 'where', 'several', 'classes', 'share', 'common', 'features', 'such', 'as', 'needed', 'functions', 'or', 'data', 'variables', 'in', 'addition', 'to', 'this', 'child', 'classes', 'can', 'be', 'referenced', 'in', 'terms', 'of', 'their', 'parent', 'classes', 'which', 'can', 'be', 'useful', 'when', 'storing', 'large', 'data', 'structures', 'of', 'objects', 'of', 'several', 'classes', 'which', 'can', 'all', 'be', 'referenced', 'as', 'one', 'base', 'class', 'inheritance', 'is', 'a', 'core', 'aspect', 'of', 'object', 'oriented', 'programming', 'and', 'is', 'available', 'in', 'some', 'form', 'or', 'another', 'in', 'most', 'if', 'not', 'all', 'object', 'oriented', 'languages', 'available', 'today', 'most', 'of', 'these', 'languages', 'provide', 'an', 'extend', 'keyword', 'which', 'is', 'used', 'to', 'subclass', 'another', 'also', 'the', 'functions', 'and', 'data', 'variables', 'that', 'are', 'inherited', 'by', 'the', 'subclasses', 'can', 'be', 'controlled', 'through', 'the', 'use', 'of', 'visibility', 'modifiers']\n",
      "Data_Sample/g3pB_taska.txt\n",
      "['inheritance', 'is', 'a', 'concept', 'in', 'object', 'oriented', 'programming', 'where', 'a', 'child', 'or', 'sub', 'class', 'inherits', 'characteristics', 'from', 'a', 'parent', 'or', 'super', 'class', 'the', 'concept', 'takes', 'its', 'name', 'from', 'genetic', 'inheritance', 'where', 'a', 'child', 'can', 'inherit', 'genetic', 'characteristics', 'from', 'its', 'parents', 'inheritance', 'at', 'its', 'simplest', 'allows', 'programmers', 'to', 'model', 'a', 'relationship', 'where', 'one', 'object', 'is', 'a', 'kind', 'of', 'another', 'for', 'instance', 'two', 'classes', 'one', 'representing', 'an', 'undergraduate', 'student', 'and', 'another', 'representing', 'a', 'post', 'graduate', 'student', 'could', 'both', 'be', 'said', 'to', 'belong', 'to', 'a', 'more', 'generalised', 'class', 'representing', 'all', 'students', 'similarly', 'we', 'could', 'say', 'that', 'dogs', 'and', 'cats', 'are', 'two', 'kinds', 'of', 'animal', 'or', 'that', 'bridges', 'and', 'skyscrapers', 'are', 'two', 'types', 'of', 'man', 'made', 'structure', 'subclasses', 'are', 'said', 'to', 'extend', 'or', 'specialise', 'their', 'superclasses', 'attributes', 'variables', 'and', 'behaviours', 'functions', 'that', 'are', 'common', 'between', 'classes', 'can', 'be', 'included', 'in', 'the', 'definition', 'of', 'the', 'superclass', 'leaving', 'the', 'subclass', 'definitions', 'containing', 'only', 'the', 'attributes', 'and', 'behaviours', 'that', 'are', 'unique', 'to', 'that', 'class', 'inheritance', 'can', 'be', 'used', 'to', 'create', 'a', 'multiple', 'level', 'architecture', 'of', 'classes', 'in', 'such', 'an', 'architecture', 'even', 'the', 'bottom', 'most', 'subclasses', 'inherit', 'all', 'of', 'the', 'attributes', 'and', 'behaviours', 'that', 'are', 'defined', 'in', 'the', 'very', 'top', 'most', 'superclasses', 'this', 'can', 'save', 'the', 'programmer', 'time', 'because', 'it', 'renders', 'unnecessary', 'a', 'lot', 'of', 'code', 'duplication']\n",
      "Data_Sample/g3pC_taska.txt\n",
      "['in', 'object', 'oriented', 'programming', 'inheritance', 'is', 'a', 'way', 'to', 'form', 'new', 'classes', 'instances', 'of', 'which', 'are', 'called', 'objects', 'using', 'classes', 'that', 'have', 'already', 'been', 'defined', 'inheritance', 'is', 'also', 'sometimes', 'called', 'generalization', 'because', 'the', 'is', 'a', 'relationships', 'represent', 'a', 'hierarchy', 'between', 'classes', 'of', 'objects', 'for', 'instance', 'a', 'fruit', 'is', 'a', 'generalization', 'of', 'apple', 'orange', 'mango', 'and', 'many', 'others', 'one', 'can', 'consider', 'fruit', 'to', 'be', 'an', 'abstraction', 'of', 'apple', 'orange', 'etc', 'conversely', 'since', 'apples', 'are', 'fruit', 'i', 'e', 'an', 'apple', 'is', 'a', 'fruit', 'apples', 'may', 'naturally', 'inherit', 'all', 'the', 'properties', 'common', 'to', 'all', 'ruit', 'such', 'as', 'being', 'a', 'fleshy', 'container', 'for', 'the', 'seed', 'of', 'a', 'plant', 'inheritance', 'is', 'typically', 'accomplished', 'either', 'by', 'overriding', 'replacing', 'one', 'or', 'more', 'methods', 'exposed', 'by', 'ancestor', 'or', 'by', 'adding', 'new', 'methods', 'to', 'those', 'exposed', 'by', 'an', 'ancestor']\n",
      "Data_Sample/g4pB_taska.txt\n",
      "['inheritance', 'is', 'the', 'ability', 'of', 'a', 'subclass', 'to', 'inherit', 'default', 'protected', 'and', 'public', 'attributes', 'and', 'methods', 'from', 'its', 'superclasses', 'each', 'object', 'except', 'java', 'lang', 'object', 'can', 'be', 'cast', 'to', 'an', 'object', 'of', 'one', 'of', 'its', 'superclasses', 'however', 'an', 'object', 'cannot', 'be', 'cast', 'to', 'a', 'class', 'which', 'is', 'no', 'relative', 'of', 'it', 'here', 'is', 'an', 'example', 'of', 'inheritance', 'we', 'have', 'the', 'class', 'of', 'all', 'living', 'things', 'which', 'have', 'attributes', 'like', 'weight', 'and', 'age', 'we', 'have', 'the', 'classes', 'of', 'animals', 'plants', 'viruses', 'and', 'fungi', 'that', 'are', 'subclasses', 'of', 'the', 'class', 'of', 'all', 'living', 'things', 'the', 'animals', 'have', 'their', 'unique', 'attributes', 'organs', 'hair', 'etc', 'and', 'methods', 'walking', 'mating', 'etc', 'they', 'also', 'inherit', 'the', 'attributes', 'and', 'methods', 'of', 'its', 'superclass', 'animals', 'can', 'be', 'treated', 'cast', 'to', 'living', 'things', 'however', 'animals', 'cannot', 'be', 'treated', 'as', 'fungi', 'in', 'object', 'oriented', 'programming', 'inheritance', 'is', 'also', 'dependant', 'on', 'access', 'level', 'modifiers', 'for', 'example', 'private', 'attributes', 'and', 'methods', 'cannot', 'be', 'inherited', 'virtual', 'attributes', 'and', 'methods', 'can', 'be', 'shadowed', 'overridden', 'in', 'java', 'all', 'attributes', 'and', 'methods', 'are', 'implicitly', 'virtual', 'object', 'variable', 'can', 'store', 'a', 'reference', 'to', 'the', 'same', 'class', 'or', 'a', 'subclass', 'i', 'e', 'this', 'or', 'more', 'specialised', 'version', 'however', 'object', 'variables', 'cannot', 'store', 'references', 'to', 'a', 'superclass', 'i', 'e', 'less', 'specialised', 'version', 'of', 'the', 'original', 'class']\n",
      "Data_Sample/g4pC_taska.txt\n",
      "['in', 'object', 'oriented', 'programming', 'inheritance', 'is', 'a', 'way', 'to', 'form', 'new', 'classes', 'instances', 'of', 'which', 'are', 'called', 'objects', 'using', 'classes', 'that', 'have', 'already', 'been', 'defined', 'the', 'inheritance', 'concept', 'was', 'invented', 'in', '1967', 'for', 'simula', 'inheritance', 'provides', 'the', 'support', 'for', 'representation', 'by', 'categorization', 'in', 'computer', 'languages', 'categorization', 'is', 'a', 'powerful', 'mechanism', 'number', 'of', 'information', 'processing', 'crucial', 'to', 'human', 'learning', 'by', 'means', 'of', 'generalization', 'and', 'cognitive', 'economy', 'less', 'information', 'needs', 'to', 'be', 'stored', 'about', 'each', 'specific', 'entity', 'only', 'its', 'particularities', 'the', 'new', 'classes', 'known', 'as', 'derived', 'classes', 'take', 'over', 'or', 'inherit', 'attributes', 'and', 'behavior', 'of', 'the', 'pre', 'existing', 'classes', 'which', 'are', 'referred', 'to', 'as', 'base', 'classes', 'or', 'ancestor', 'classes', 'it', 'is', 'intended', 'to', 'help', 'reuse', 'existing', 'code', 'with', 'little', 'or', 'no', 'modification', 'inheritance', 'is', 'also', 'sometimes', 'called', 'generalization', 'because', 'the', 'is', 'a', 'relationships', 'represent', 'a', 'hierarchy', 'between', 'classes', 'of', 'objects', 'for', 'instance', 'a', 'fruit', 'is', 'a', 'generalization', 'of', 'apple', 'orange', 'mango', 'and', 'many', 'others', 'one', 'can', 'consider', 'fruit', 'to', 'be', 'an', 'abstraction', 'of', 'apple', 'orange', 'etc', 'conversely', 'since', 'apples', 'are', 'fruit', 'i', 'e', 'an', 'apple', 'is', 'a', 'fruit', 'apples', 'may', 'naturally', 'inherit', 'all', 'the', 'properties', 'common', 'to', 'all', 'fruit', 'such', 'as', 'being', 'a', 'fleshy', 'container', 'for', 'the', 'seed', 'of', 'a', 'plant', 'an', 'advantage', 'of', 'inheritance', 'is', 'that', 'modules', 'with', 'sufficiently', 'similar', 'interfaces', 'can', 'share', 'a', 'lot', 'of', 'code', 'reducing', 'the', 'complexity', 'of', 'the', 'program', 'inheritance', 'therefore', 'has', 'another', 'view', 'a', 'dual', 'called', 'polymorphism', 'which', 'describes', 'many', 'pieces', 'of', 'code', 'being', 'controlled', 'by', 'shared', 'control', 'code', 'inheritance', 'is', 'typically', 'accomplished', 'either', 'by', 'overriding', 'replacing', 'one', 'or', 'more', 'methods', 'exposed', 'by', 'ancestor', 'or', 'by', 'adding', 'new', 'methods', 'to', 'those', 'exposed', 'by', 'an', 'ancestor', 'complex', 'inheritance', 'or', 'inheritance', 'used', 'within', 'a', 'design', 'that', 'is', 'not', 'sufficiently', 'mature', 'may', 'lead', 'to', 'the', 'yo', 'yo', 'problem']\n",
      "Data_Sample/g4pD_taska.txt\n",
      "['the', 'idea', 'of', 'inheritance', 'in', 'oop', 'refers', 'to', 'the', 'formation', 'of', 'new', 'classes', 'with', 'the', 'already', 'existing', 'classes', 'the', 'concept', 'of', 'inheritance', 'was', 'basically', 'formulated', 'for', 'simula', 'in', '1967', 'as', 'a', 'result', 'the', 'newly', 'created', 'inherited', 'or', 'derived', 'classes', 'inherit', 'the', 'properties', 'and', 'behavior', 'of', 'the', 'classes', 'from', 'which', 'they', 'are', 'derived', 'these', 'original', 'classes', 'are', 'either', 'called', 'base', 'classes', 'or', 'sometimes', 'referred', 'to', 'as', 'ancestor', 'classes', 'the', 'idea', 'of', 'inheritance', 'is', 'to', 'reuse', 'the', 'existing', 'code', 'with', 'little', 'or', 'no', 'modification', 'at', 'all', 'the', 'basic', 'support', 'provided', 'by', 'inheritance', 'is', 'that', 'it', 'represents', 'by', 'categorization', 'in', 'computer', 'languages', 'the', 'power', 'mechanism', 'number', 'of', 'information', 'processing', 'that', 'is', 'crucial', 'to', 'human', 'learning', 'by', 'the', 'means', 'of', 'generalization', 'and', 'cognitive', 'economy', 'is', 'called', 'categorization', 'where', 'generalization', 'if', 'the', 'knowledge', 'of', 'specific', 'entities', 'and', 'is', 'applied', 'to', 'a', 'wider', 'group', 'provided', 'that', 'belongs', 'relation', 'can', 'be', 'created', 'on', 'the', 'other', 'hand', 'cognitive', 'economy', 'is', 'where', 'less', 'information', 'needs', 'to', 'be', 'stored', 'about', 'each', 'specific', 'entity', 'except', 'for', 'some', 'particularities', 'there', 'are', 'examples', 'where', 'we', 'can', 'have', 'modules', 'with', 'similar', 'interfaces', 'the', 'advantage', 'that', 'inheritance', 'provides', 'is', 'that', 'it', 'makes', 'such', 'modules', 'share', 'a', 'lot', 'of', 'code', 'which', 'consequently', 'reduces', 'the', 'complexity', 'of', 'the', 'program']\n",
      "Data_Sample/g4pE_taska.txt\n",
      "['object', 'oriented', 'programming', 'is', 'a', 'style', 'of', 'programming', 'that', 'supports', 'encapsulation', 'inheritance', 'and', 'polymorphism', 'inheritance', 'means', 'derived', 'a', 'new', 'class', 'from', 'the', 'base', 'class', 'we', 'can', 'also', 'say', 'there', 'are', 'parents', 'class', 'and', 'child', 'classes', 'in', 'inheritance', 'inheritance', 'was', 'firstly', 'derived', 'in', '1967', 'the', 'child', 'class', 'has', 'all', 'the', 'features', 'of', 'parents', 'class', 'or', 'we', 'can', 'say', 'the', 'base', 'class', 'more', 'over', 'it', 'may', 'also', 'include', 'some', 'additional', 'features', 'inheritance', 'is', 'used', 'for', 'modification', 'and', 'implementation', 'new', 'features', 'in', 'computer', 'programming', 'language', 'it', 'is', 'possible', 'that', 'child', 'class', 'has', 'all', 'the', 'attributes', 'of', 'parents', 'class', 'but', 'it', 'is', 'not', 'possible', 'that', 'all', 'the', 'attributes', 'of', 'child', 'class', 'must', 'have', 'in', 'base', 'class', 'or', 'parent', 'class', 'i', 'categorization', 'in', 'computer', 'language', 'also', 'inheritance', 'is', 'a', 'useful', 'tool', 'categorization', 'define', 'as', 'a', 'powerful', 'feature', 'it', 'has', 'been', 'also', 'used', 'in', 'generalisation', 'and', 'in', 'human', 'learning', 'in', 'some', 'areas', 'less', 'information', 'need', 'to', 'be', 'stored', 'generlisation', 'also', 'some', 'time', 'known', 'as', 'inheritance', 'the', 'main', 'reason', 'behind', 'this', 'is', 'a', 'hierarchi', 'structure', 'of', 'objects', 'and', 'classes', 'we', 'can', 'understand', 'this', 'mechanism', 'by', 'some', 'examples', 'like', 'fruit', 'is', 'aq', 'main', 'class', 'and', 'mangoes', 'apple', 'orange', 'is', 'child', 'classs', 'of', 'the', 'main', 'class', 'so', 'obviously', 'inherit', 'all', 'the', 'properties', 'of', 'fruit', 'class']\n"
     ]
    }
   ],
   "source": [
    "for keys,values in documents.items():\n",
    "    print(keys)\n",
    "    print(values)"
   ]
  },
  {
   "cell_type": "code",
   "execution_count": 6,
   "metadata": {},
   "outputs": [],
   "source": [
    "docsSets = {}\n",
    "AllShingles = set()\n",
    "shingle = []\n",
    "shingle_size=5 # Modify Value Here\n",
    "for i in range(0, len(documents.keys())):\n",
    "    docID = i\n",
    "    shinglesWords = set()\n",
    "    words = list(documents.values())[i]\n",
    "    for index in range(len(words) - shingle_size + 1):\n",
    "        shingle = words[index:index + shingle_size]\n",
    "        shingle = ' '.join(shingle)\n",
    "        \n",
    "        if shingle not in shinglesWords:\n",
    "            shinglesWords.add(shingle)\n",
    "        if shingle not in AllShingles:\n",
    "            AllShingles.add(shingle)\n",
    "            \n",
    "    docsSets[docID] = shinglesWords"
   ]
  },
  {
   "cell_type": "code",
   "execution_count": 7,
   "metadata": {},
   "outputs": [],
   "source": [
    "ShingleValue = [] \n",
    "for key,value in docsSets.items():\n",
    "    for item in value:\n",
    "        ShingleValue.append(item)"
   ]
  },
  {
   "cell_type": "markdown",
   "metadata": {},
   "source": [
    "Values Obtained: <br>\n",
    "Shingle Size - 3 : 4146 <br>\n",
    "Shingle Size - 4 : 4205 <br>\n",
    "Shingle Size - 5 : 4207 <br>"
   ]
  },
  {
   "cell_type": "code",
   "execution_count": 9,
   "metadata": {},
   "outputs": [],
   "source": [
    "# Hash functions\n",
    "# (ax + b) mod N formula to permute shingle index\n",
    "# a,b are random numbers, N total index size, and x is the index\n",
    "# L permutations - L permutations (lists) of new indexes\n",
    "# total index size N and L as arguments and returns L new lists of size N\n",
    "    \n",
    "def get_hash_functions(N,L):\n",
    "    hash_functions = []\n",
    "    \n",
    "    for itr in range(L):\n",
    "        a=randrange(1,400)\n",
    "        b=randrange(1,400)\n",
    "        \n",
    "        new_hash_function = []\n",
    "        for i in range(N):\n",
    "            new_hash_function.append((a * i + b) % N)\n",
    "        \n",
    "        hash_functions.append(new_hash_function)\n",
    "    return hash_functions\n",
    "        \n",
    "# hash_functions = get_hash_functions(5000,50)"
   ]
  },
  {
   "cell_type": "code",
   "execution_count": 10,
   "metadata": {},
   "outputs": [],
   "source": [
    "N = len(ShingleValue) \n",
    "L_1 = 50\n",
    "hashValuesfifty = get_hash_functions(N,L_1) # L value 50"
   ]
  },
  {
   "cell_type": "code",
   "execution_count": 67,
   "metadata": {},
   "outputs": [],
   "source": [
    "signaturesMatrixFifty = [] \n",
    "k=0\n",
    "for j in docsSets: \n",
    "    minVal = [math.inf for i in range(50)] \n",
    "    r = 0\n",
    "    for i in ShingleValue: \n",
    "        if i in docsSets[j]: \n",
    "            for k in range(50): \n",
    "                if  hashValuesfifty[k][r] < minVal[k]: \n",
    "                    minVal[k] = hashValuesfifty[k][r]\n",
    "        r = r + 1 \n",
    "    signaturesMatrixFifty.append(minVal)\n",
    "SigMatFifty = np.array(signaturesMatrixFifty)\n",
    "SigMatFifty = np.mat(SigMatFifty.T)"
   ]
  },
  {
   "cell_type": "code",
   "execution_count": 70,
   "metadata": {},
   "outputs": [],
   "source": [
    "N = len(ShingleValue) \n",
    "L_2 = 100\n",
    "hashValueshundered = get_hash_functions(N,L_2) # L value 100"
   ]
  },
  {
   "cell_type": "code",
   "execution_count": 71,
   "metadata": {},
   "outputs": [],
   "source": [
    "signaturesMatrix_100= [] \n",
    "k=0\n",
    "for j in docsSets: \n",
    "    minVal = [math.inf for i in range(50)] \n",
    "    r = 0\n",
    "    for i in ShingleValue: \n",
    "        if i in docsSets[j]: \n",
    "            for k in range(50): \n",
    "                if  hashValueshundered[k][r] < minVal[k]: \n",
    "                    minVal[k] = hashValueshundered[k][r]\n",
    "        r = r + 1 \n",
    "    signaturesMatrix_100.append(minVal)\n",
    "SigMat_100 = np.array(signaturesMatrix_100)\n",
    "SigMat_100 = np.mat(SigMat_100.T)"
   ]
  },
  {
   "cell_type": "code",
   "execution_count": 73,
   "metadata": {},
   "outputs": [],
   "source": [
    "N = len(ShingleValue) \n",
    "L_3 = 200\n",
    "hashValuesTwohundered = get_hash_functions(N,L_3) # L value 200"
   ]
  },
  {
   "cell_type": "code",
   "execution_count": 75,
   "metadata": {},
   "outputs": [],
   "source": [
    "signaturesMatrix_200= [] \n",
    "k=0\n",
    "for j in docsSets: \n",
    "    minVal = [math.inf for i in range(50)] \n",
    "    r = 0\n",
    "    for i in ShingleValue: \n",
    "        if i in docsSets[j]: \n",
    "            for k in range(50): \n",
    "                if  hashValuesTwohundered[k][r] < minVal[k]: \n",
    "                    minVal[k] = hashValuesTwohundered[k][r]\n",
    "        r = r + 1 \n",
    "    signaturesMatrix_200.append(minVal)\n",
    "SigMat_200 = np.array(signaturesMatrix_200)\n",
    "SigMat_200 = np.mat(SigMat_200.T)"
   ]
  },
  {
   "cell_type": "code",
   "execution_count": 78,
   "metadata": {},
   "outputs": [],
   "source": [
    "N = len(ShingleValue) \n",
    "L_4 = 500\n",
    "hashValuesFivehundered = get_hash_functions(N,L_4) # L value 500"
   ]
  },
  {
   "cell_type": "code",
   "execution_count": 80,
   "metadata": {},
   "outputs": [],
   "source": [
    "signaturesMatrix_500= [] \n",
    "k=0\n",
    "for j in docsSets: \n",
    "    minVal = [math.inf for i in range(50)] \n",
    "    r = 0\n",
    "    for i in ShingleValue: \n",
    "        if i in docsSets[j]: \n",
    "            for k in range(50): \n",
    "                if  hashValuesFivehundered[k][r] < minVal[k]: \n",
    "                    minVal[k] = hashValuesFivehundered[k][r]\n",
    "        r = r + 1 \n",
    "    signaturesMatrix_500.append(minVal)\n",
    "SigMat_500 = np.array(signaturesMatrix_500)\n",
    "SigMat_500 = np.mat(SigMat_500.T)"
   ]
  },
  {
   "cell_type": "code",
   "execution_count": 159,
   "metadata": {},
   "outputs": [],
   "source": [
    "N = len(ShingleValue)\n",
    "L_5 = 1000\n",
    "hashValuesThousand = get_hash_functions(N,L_5) # L value 500"
   ]
  },
  {
   "cell_type": "code",
   "execution_count": 171,
   "metadata": {},
   "outputs": [],
   "source": [
    "signatures_1000 = [] \n",
    "count2=0\n",
    "for j in docsSets:\n",
    "  list_shingle = [math.inf for i in range(1000)] \n",
    "  count1 = 0\n",
    "  for i in ShingleValue: \n",
    "    if i in docsSets[j]:\n",
    "      for count2 in range(1000): \n",
    "        if  hashValuesThousand[count2][count1] < list_shingle[count2]: \n",
    "          list_shingle[count2] = hashValuesThousand[count2][count1]\n",
    "    count1 = count1 + 1 \n",
    "  signatures_1000.append(list_shingle)\n",
    "mat_1000 = np.array(signatures_1000) \n",
    "mat_1000 = mat_1000.T \n",
    "mat_1000 = np.mat(mat_1000)\n"
   ]
  },
  {
   "cell_type": "code",
   "execution_count": null,
   "metadata": {},
   "outputs": [],
   "source": [
    "###################################################"
   ]
  },
  {
   "cell_type": "code",
   "execution_count": 83,
   "metadata": {},
   "outputs": [],
   "source": [
    "#Original Data\n",
    "data_1=''\n",
    "documents_1 = {}\n",
    "original = '/orig_taska.txt'\n",
    "f = open(original, 'r',encoding=\"utf8\")\n",
    "data_1 = data_1 + f.read()\n",
    "(key, val) = filename,data_1\n",
    "documents_1[(key)] = re.sub(\"[^\\w]\", \" \", val).lower().split()\n",
    "\n",
    "\n",
    "#Shingles\n",
    "docsSets_1 = {}\n",
    "AllShingles_1 = set()\n",
    "shingle_1 = []\n",
    "shingle_size=5 # Modify Value Here\n",
    "for i in range(0, len(documents.keys())):\n",
    "    docID_1 = i\n",
    "    shinglesWords_1 = set()\n",
    "    words_1 = list(documents.values())[i]\n",
    "    for index in range(len(words_1) - shingle_size + 1):\n",
    "        shingle_1 = words_1[index:index + shingle_size]\n",
    "        shingle_1 = ' '.join(shingle_1)\n",
    "        \n",
    "        if shingle_1 not in shinglesWords_1:\n",
    "            shinglesWords_1.add(shingle_1)\n",
    "        if shingle_1 not in AllShingles_1:\n",
    "            AllShingles_1.add(shingle_1)\n",
    "            \n",
    "    docsSets_1[docID_1] = shinglesWords_1\n",
    "\n",
    "ShingleValue_1 = [] \n",
    "for key,value in docsSets_1.items():\n",
    "    for item in value:\n",
    "        ShingleValue_1.append(item)\n",
    "    \n",
    "signaturesMatrixFifty_1 = [] \n",
    "k=0\n",
    "for j in docsSets_1: \n",
    "    minVal = [math.inf for i in range(50)] \n",
    "    r = 0\n",
    "    for i in ShingleValue_1: \n",
    "        if i in docsSets_1[j]: \n",
    "            for k in range(50): \n",
    "                if  hashValuesfifty[k][r] < minVal[k]: \n",
    "                    minVal[k] = hashValuesfifty[k][r]\n",
    "        r = r + 1 \n",
    "    signaturesMatrixFifty_1.append(minVal)\n",
    "SigMatFifty_1 = np.array(signaturesMatrixFifty_1)\n",
    "SigMatFifty_1 = np.mat(SigMatFifty_1.T)"
   ]
  },
  {
   "cell_type": "code",
   "execution_count": 86,
   "metadata": {},
   "outputs": [],
   "source": [
    "def jaccard_similarity(list1, list2):\n",
    "    s1 = set(list1)\n",
    "    s2 = set(list2)\n",
    "    return len(s1.intersection(s2)) / len(s1.union(s2))"
   ]
  },
  {
   "cell_type": "code",
   "execution_count": 96,
   "metadata": {},
   "outputs": [],
   "source": [
    "files = (documents.keys())"
   ]
  },
  {
   "cell_type": "code",
   "execution_count": 112,
   "metadata": {},
   "outputs": [],
   "source": [
    "t = 0.2\n",
    "JaccValues = [] \n",
    "for i in range(0,(len(documents.keys()))): \n",
    "    counter = 0 \n",
    "    for j in range(50):\n",
    "        if SigMatFifty[j,i] == SigMatFifty_1[j,0]: \n",
    "            counter = counter + 1\n",
    "    jcd = (counter / 50)\n",
    "    jcd = jcd *10\n",
    "    JaccValues.append(jcd)"
   ]
  },
  {
   "cell_type": "code",
   "execution_count": 113,
   "metadata": {},
   "outputs": [
    {
     "name": "stdout",
     "output_type": "stream",
     "text": [
      "[10.0, 0.0, 0.2, 0.4, 0.4, 0.4, 0.8, 0.2, 0.6, 0.2, 0.4, 0.4, 0.0, 0.8, 0.4, 0.0, 0.4, 0.0, 0.0]\n"
     ]
    }
   ],
   "source": [
    "print(JaccValues)"
   ]
  },
  {
   "cell_type": "code",
   "execution_count": 115,
   "metadata": {},
   "outputs": [
    {
     "name": "stdout",
     "output_type": "stream",
     "text": [
      "10.0\n",
      "Data_Sample/g0pA_taska.txt\n",
      "0.4\n",
      "Data_Sample/g0pD_taska.txt\n",
      "0.4\n",
      "Data_Sample/g0pE_taska.txt\n",
      "0.4\n",
      "Data_Sample/g1pA_taska.txt\n",
      "0.8\n",
      "Data_Sample/g1pB_taska.txt\n",
      "0.6\n",
      "Data_Sample/g2pA_taska.txt\n",
      "0.4\n",
      "Data_Sample/g2pC_taska.txt\n",
      "0.4\n",
      "Data_Sample/g2pE_taska.txt\n",
      "0.8\n",
      "Data_Sample/g3pB_taska.txt\n",
      "0.4\n",
      "Data_Sample/g3pC_taska.txt\n",
      "0.4\n",
      "Data_Sample/g4pC_taska.txt\n"
     ]
    }
   ],
   "source": [
    "for i in range(0,len(JaccValues)):\n",
    "    if(JaccValues[i]>0.20):\n",
    "        print(JaccValues[i])\n",
    "        print(list(documents.keys())[i])"
   ]
  },
  {
   "cell_type": "code",
   "execution_count": null,
   "metadata": {},
   "outputs": [],
   "source": [
    "##########################################"
   ]
  },
  {
   "cell_type": "code",
   "execution_count": 173,
   "metadata": {},
   "outputs": [],
   "source": [
    "# hash signature matrix into B buckets\n",
    "# split the signature matrix into b bands of r rows\n",
    "# Convert signature matrix generated with L=1000\n",
    "\n",
    "b = 50\n",
    "r = 20\n",
    "B = 199\n",
    "mat_1000 = np.array(mat_1000)"
   ]
  },
  {
   "cell_type": "code",
   "execution_count": 174,
   "metadata": {},
   "outputs": [],
   "source": [
    "docNames = documents.keys()"
   ]
  },
  {
   "cell_type": "code",
   "execution_count": 180,
   "metadata": {},
   "outputs": [],
   "source": [
    "docNames = list(docNames)"
   ]
  },
  {
   "cell_type": "code",
   "execution_count": 175,
   "metadata": {},
   "outputs": [],
   "source": [
    "SigMat_1000_DocNames= mat_1000.reshape((b,r,-1))"
   ]
  },
  {
   "cell_type": "code",
   "execution_count": 183,
   "metadata": {},
   "outputs": [
    {
     "name": "stdout",
     "output_type": "stream",
     "text": [
      "defaultdict(<class 'set'>, {1: {'so obviously inherit all the'}, 187: {'so obviously inherit all the'}, 41: {'so obviously inherit all the'}, 145: {'so obviously inherit all the'}, 46: {'so obviously inherit all the'}, 175: {'so obviously inherit all the'}, 181: {'so obviously inherit all the'}})\n"
     ]
    }
   ],
   "source": [
    "import collections\n",
    "from collections import defaultdict\n",
    "\n",
    "RandVal=random.sample(range(100), r)\n",
    "bucketVal = {} \n",
    "for i in range(b):\n",
    "    dict1 = collections.defaultdict(list) \n",
    "    for j in range(len(docNames)):\n",
    "        h = (np.sum((RandVal)*(SigMat_1000_DocNames[i,:,j])))%B\n",
    "        dict1[h].append(docNames[j])\n",
    "    bucketVal.update(dict1)\n",
    "main_bucket= collections.defaultdict(set) \n",
    "for i in bucketVal: \n",
    "    if len(bucketVal[i]) > 1: \n",
    "        main_bucket[i].add(item) \n",
    "print(main_bucket)"
   ]
  },
  {
   "cell_type": "code",
   "execution_count": null,
   "metadata": {},
   "outputs": [],
   "source": []
  }
 ],
 "metadata": {
  "kernelspec": {
   "display_name": "Python 3",
   "language": "python",
   "name": "python3"
  },
  "language_info": {
   "codemirror_mode": {
    "name": "ipython",
    "version": 3
   },
   "file_extension": ".py",
   "mimetype": "text/x-python",
   "name": "python",
   "nbconvert_exporter": "python",
   "pygments_lexer": "ipython3",
   "version": "3.7.3"
  }
 },
 "nbformat": 4,
 "nbformat_minor": 2
}
